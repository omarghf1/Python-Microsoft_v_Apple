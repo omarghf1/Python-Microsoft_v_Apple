{
 "cells": [
  {
   "cell_type": "markdown",
   "metadata": {},
   "source": [
    "# MACHINE LEARNING - UNPSUPERVISED FINAL\n",
    "    \n",
    "    Authors : Mansi Yadav, Jasmine Assan, Omar Hernandez, Lukas Baumann, Gonzalo Avila & Jason Lee\n",
    "    Date   : March 25th, 2020\n",
    "    \n",
    "    \n",
    "    \n",
    "# Windows vs. Macbook\n",
    "\n",
    "Countless consumers have pondered this question when preparing to buy a new computer. As a result, Apple (AAPL) and Microsoft (MSFT) have been rigorously researching several aspects of consumer buying behavior in regards to the decision making behind this question. Both firms have commissioned research and analysis teams to study aspects such as system architecture, security, and overall performance.\n",
    "\n",
    "Recently, Microsoft has decided to approach this question from the perspective of the Big Five personality traits as well as the Hult DNA. As such, your team has been commissioned to run an analysis on these factors. Microsoft is looking forward to receiving your key insights, as well as an organized Jupyter Notebook that can be shared with their internal analytical teams. They also have sent you a kind reminder to utilize external research to support your findings and to give details related to important information such as audience size.\n",
    "\n",
    "The Big Five personality test measures the five personality factors that psychologists have determined are core to our personality makeup. The Five Factors of personality are:\n",
    "\n",
    "- Openness - How open a person is to new ideas and experiences\n",
    "- Conscientiousness - How goal-directed, persistent, and organized a person is\n",
    "- Extraversion - How much a person is energized by the outside world\n",
    "- Agreeableness - How much a person puts others' interests and needs ahead of their own\n",
    "- Neuroticism - How sensitive a person is to stress and negative emotional triggers\n",
    "\n",
    "# Analysis\n",
    "In this analysis we will look into 392 survey responders that answered 77 questions. We will look into separating the types of questions into their Big Five personality traits. We will also separate the Hult DNA questions into 3 groups based on information provided in the Hult Handbook. Using this information we will explore the data and determine if there are any overarching insights prior to diving deeper into the analysis.\n",
    "\n",
    "After exploration, we will organize our data and utilize unsupervised machine learning techniques - PCAs and Clustering to determine the types of customer that would purchase either a Macbook or Windows computer. Our goal is to help Microsoft determine unique customers that can be isolated and find out which customers are more inclined to remain or switch from their current laptop owned.\n",
    "\n",
    "### Data Source: 392 Hult Graduate Students\n",
    "\n",
    "# Report Contents\n",
    "\n",
    "    1. Hypothesis\n",
    "    2. Exploration / Cleaning\n",
    "        1. Cleaning\n",
    "        2. Demographics\n",
    "    3. Initial Insights\n",
    "    4. Data Preparation\n",
    "        1. Big Five Grouping\n",
    "        2. Big Five Formula\n",
    "        3. Hult DNA Grouping\n",
    "        4. Hult DNA Formula\n",
    "        5. Correlation\n",
    "    5. PCA Model\n",
    "        1. Scaling Data\n",
    "        2. PCA - No Max Components\n",
    "        3. PCA - Limited Components\n",
    "        4. Factor Loading\n",
    "            1. User Personas\n",
    "            2. Potential Customer Segments\n",
    "    6. Clustering\n",
    "        1. Scaling PCA Data\n",
    "        2. Test Clusters\n",
    "        3. Centroids\n",
    "    7. Results\n",
    "        1. Combined Results\n",
    "        2. Continued Exploration\n",
    "    8. Overview\n",
    "        1. Insights\n",
    "        2. Recommendations\n",
    "    9. Sources"
   ]
  },
  {
   "cell_type": "code",
   "execution_count": 1,
   "metadata": {},
   "outputs": [],
   "source": [
    "# Import packages\n",
    "import pandas                  as pd\n",
    "import matplotlib.pyplot       as plt                  \n",
    "import seaborn                 as sns          \n",
    "import numpy                   as np\n",
    "from   sklearn.preprocessing   import StandardScaler \n",
    "from   sklearn.decomposition   import PCA            \n",
    "from   scipy.cluster.hierarchy import dendrogram, linkage \n",
    "from   sklearn.cluster         import KMeans              \n",
    "\n",
    "# Load the data\n",
    "file      = \"Survey_Data_Final_Exam.xlsx\"\n",
    "survey_df = pd.read_excel(file)\n",
    "\n",
    "# Setting print options\n",
    "pd.set_option('display.max_rows',     500)\n",
    "pd.set_option('display.max_columns',  500)\n",
    "pd.set_option('display.width',       1000)\n",
    "pd.set_option('display.max_colwidth', 100)"
   ]
  },
  {
   "cell_type": "markdown",
   "metadata": {},
   "source": [
    "# 1. HYPOTHESIS\n",
    "\n",
    "In preparation of this analysis, research was done to gain domain knowledge about the perceived differences between Macbook and Windows users. Outlined below are the hypotheses obtained:\n",
    "\n",
    "\n",
    "\n",
    "<b><u>Hypothesis 1:</u></b><br>\n",
    "Higher levels of the extraversion and openness from the Big Five personality traits are scored by Macbook users.\n",
    "\n",
    "<i>According to [Mindset Media](https://www.pcworld.com/article/141473/article.html) people who purchase Macbooks fall into what the branding company calls the \"Openness 5\" personality category -- which means they are more liberal, less modest and more assured of their own superiority than the population at large.</i>\n",
    "\n",
    "<b><u>Hypothesis 2:</u></b><br>\n",
    "Windows users score higher in conscientiousness from the Big Five personality traits and lower in the Thinking category of the Hult DNA.\n",
    "\n",
    "<i>In an article, [Mac vs PC People: ](https://kellynford.com/2009/11/24/mac-vs-pc-people-personality-traits-aestheticmedia-choices/) windows users trend towards more mainstream alternatives and are more numbers oriented, factual and steady, hard workers.</i>\n",
    "\n",
    "<b><u>Hypothesis 3:</u></b><br>\n",
    "\n",
    "Personality traits and region of country will hold a predictive value for the type of computer currently used and preferred."
   ]
  },
  {
   "cell_type": "code",
   "execution_count": 2,
   "metadata": {},
   "outputs": [],
   "source": [
    "# # Explore  dataset\n",
    "# survey_df.head()"
   ]
  },
  {
   "cell_type": "markdown",
   "metadata": {},
   "source": [
    "------------------------------\n",
    "\n",
    "# 2. EXPLORATION\n",
    "To get a better understanding of our data we will conduct some general exploration to observe the types of data we have available from the survey. We will explore specific demographics, and also conduct cleaning or grouping when necessary. The survey consists of 77 questions, split into various categories to determine eventually how we can manage and prepare our data for the PCA model and Clustering."
   ]
  },
  {
   "cell_type": "code",
   "execution_count": 3,
   "metadata": {},
   "outputs": [],
   "source": [
    "# # Numbers of cols and name of columns. if \".1\" at the end its a duplicate\n",
    "# survey_df.info()"
   ]
  },
  {
   "cell_type": "markdown",
   "metadata": {},
   "source": [
    "Some interesting things to note from examining the data:\n",
    "    \n",
    "   - There are 3 rows which have exact duplicates of one another. These duplicates are located very near each other so we know that they were asked almost consecutively.\n",
    "   - Next there is one missing value from the question about ethnicity.\n",
    "   - There is data of object types which are located in the end of the survey. This data is related to demographic information.\n",
    "   - The first question is the surveyID which would not provide any value for our analysis. (Drop it later)\n",
    "   \n",
    "------------------------------------\n",
    "\n",
    "# Summary Statistics"
   ]
  },
  {
   "cell_type": "code",
   "execution_count": 4,
   "metadata": {},
   "outputs": [],
   "source": [
    "# # summary statistics\n",
    "# survey_df.describe().round(2)"
   ]
  },
  {
   "cell_type": "markdown",
   "metadata": {},
   "source": [
    "General insights:\n",
    "\n",
    " - All the results are almost identical since they are all questions from a scale from 1-5, so we wouldn't get any surprising numbers.\n",
    " \n",
    "Low Mean Scores:\n",
    " - Question - \"Insult people\" has the lowest mean rating at 1.73. This could tell us that people don't like hurting other people's feelings so the score is low\n",
    " - Question - Do not have a good imagination\" had a low mean rating 2.11, telling us that most users believe that have a good imagination and think out of the box.\n",
    " - Question \"Am not interested in abstract ideas\" had a low mean rating 2.13, we could speculate that people are interested in abstract ideas and are generally curious.\n",
    "\n",
    "High Mean Scores:\n",
    " - Question \"Drive for results\", had the highest average score 4.28. This question was part of the Hult DNA group, meaning a lot of students at Hult could be motivated to succeed.\n",
    " - Questions \"Work well with people from diverse cultural backgrounds\", also scored high at 4.26 average score. This would make sense since Hult is one of the most diverse International schools in the world. We would expect students to be familiar with working with multiple cultures. \n",
    " - Question \"Display a growth mindset\", another Hult DNA question where there was a high mean score. Similarly to drive results, this could tell us the type of student body we have at Hult and motivate individuals are continuously looking to grow."
   ]
  },
  {
   "cell_type": "markdown",
   "metadata": {},
   "source": [
    "---------------------------------------\n",
    "\n",
    "# Demographics\n",
    "To continue our exploration we will look into demographic related information. Before we construct the PCA model, we want to see if we can find any interesting insights from the demographics we have. When building our PCA model we will be dropping these variables (more explained later), in order to reduce bias.\n",
    "\n",
    "## Laptop Owned\n",
    "\n",
    "In exploring the data we wanted to determine through a preliminary analysis the percentage of the audience that currently had a Macbook or Windows. The value counts for the current laptops that the survey responders own produced the following results:\n",
    "\n",
    "~~~\n",
    "Macbook           199\n",
    "Windows laptop    192\n",
    "MAC                 1\n",
    "~~~\n",
    "\n",
    "MAC is the shorthand name for Macbook and as such this data entry would be changed to Macbook.\n",
    "\n",
    "The preference for a Windows and Macbook are almost proportionate in this audience with 51% of the responders preferring Macbooks to 49% for Windows. There is one outlier \"MAC\" so we will clean that to make sure it falls into the \"Macbook\" grouping."
   ]
  },
  {
   "cell_type": "code",
   "execution_count": 5,
   "metadata": {},
   "outputs": [],
   "source": [
    "# Replacing MAC with Macbook in the dataset\n",
    "survey_df['What laptop do you currently have?'].replace(to_replace = 'MAC', \n",
    "                                                             value = 'Macbook', \n",
    "                                                           inplace = True)"
   ]
  },
  {
   "cell_type": "code",
   "execution_count": 6,
   "metadata": {
    "code_folding": [
     0
    ]
   },
   "outputs": [],
   "source": [
    "# # Pie chart, where the slices will be ordered and plotted counter-clockwise:\n",
    "\n",
    "# labels = 'Macbook', 'Windows'\n",
    "# sizes = survey_df['What laptop do you currently have?'].value_counts()\n",
    "# explode = (0, 0.1)  \n",
    "\n",
    "# fig1, ax1 = plt.subplots()\n",
    "# ax1.pie(sizes, explode=explode, labels=labels, autopct='%1.1f%%',\n",
    "#        shadow=True, startangle=90)\n",
    "# ax1.axis('equal')  \n",
    "\n",
    "# plt.show()"
   ]
  },
  {
   "cell_type": "markdown",
   "metadata": {},
   "source": [
    "## Next Laptop\n",
    "\n",
    "Another preliminary analysis on the type of laptop each respondent will own next with cost remaining the same showed MAC as an answer and was replaced with Macbook. The following results were produced:\n",
    "\n",
    "~~~\n",
    "Macbook           219\n",
    "Windows laptop    163\n",
    "Chromebook         10\n",
    "~~~\n",
    "\n",
    "<b>55.9%</b> of the audience in the sample dataset would purchase a Macbook next if all laptops cost the same. This is an additional <b>4.9%</b> from those who currently own Macbooks. This could indicate that price is a high priority to the 4.9% and would be investigated further. <b>41.6%</b> would purchase a Windows. \n",
    "\n",
    "An interesting point is that Chromebook was a laptop that <b>2.6%</b> of the audience would purchase if all laptops cost the same. With such a small proportion and the focus of the analysis being for Windows or Macbook's, we would not consider this for further analysis.\n",
    "\n",
    "There is also another value tagged as \"MAC\" so we will clean that below."
   ]
  },
  {
   "cell_type": "code",
   "execution_count": 7,
   "metadata": {},
   "outputs": [],
   "source": [
    "# Replacing MAC with Macbook in the dataset\n",
    "survey_df['What laptop would you buy in next assuming if all laptops cost the same?'].replace(\n",
    "                                                        to_replace = 'MAC', \n",
    "                                                        value      = 'Macbook', \n",
    "                                                        inplace    = True)"
   ]
  },
  {
   "cell_type": "code",
   "execution_count": 8,
   "metadata": {
    "code_folding": [
     0
    ]
   },
   "outputs": [],
   "source": [
    "# # Pie chart, where the slices will be ordered and plotted counter-clockwise:\n",
    "\n",
    "# labels = 'Macbook', 'Windows','Chromebook'\n",
    "# sizes = survey_df['What laptop would you buy in next assuming if all laptops cost the same?'].value_counts()\n",
    "# explode = (0, 0, 0.1,)\n",
    "\n",
    "# fig1, ax1 = plt.subplots()\n",
    "# ax1.pie(sizes,explode=explode, labels=labels, autopct='%1.1f%%',\n",
    "#        shadow=True, startangle=90)\n",
    "# ax1.axis('equal')  \n",
    "\n",
    "# plt.show()"
   ]
  },
  {
   "cell_type": "markdown",
   "metadata": {},
   "source": [
    "----------------------------------\n",
    "\n",
    "## Current Program\n",
    "The participants in this survey are from four different programs, having 50.5% of participants doing Dual Degree Business Analytics after studying MIB, One-year Business Analytics students with 25.3%, followed closely by Dual Degree Business Analytics after studying MBA with 23.7%, and Dual Degree Disruptive Innovation after studying MBA with only 0.5% of participants.\n",
    "\n",
    "The following table details the participants per program:\n",
    "\n",
    "Program\t|Number of Students|\tPercent on Survey|\n",
    "---|----|----|\n",
    "DD (MIB & Business Analytics)\t|198|\t50.5%|\n",
    "One year Business Analytics\t|99\t|25.3%|\n",
    "DD (MBA & Business Analytics)\t|93|\t23.7%|\n",
    "DD (MBA & Disruptive innovation)|\t2\t|0.5%|\n",
    "\n",
    "Following the previous table, 192 participants (49% of the total survey) have a Windows laptop and the distributions of these Windows-user students are 39.6% in MIB-MBAN, 31.8% in MBA-MBAN, and 28.6% in One-year Business Analytics.\n",
    "\n",
    "Program\t|Number of Students\t|Percent on Survey|\n",
    "----|-----|----|\n",
    "DD (MIB & Business Analytics)\t|76\t|39.6%|\n",
    "One year Business Analytics|\t61|\t31.8%|\n",
    "DD (MBA & Business Analytics)\t|55|\t28.6%|\n",
    "DD (MBA & Disruptive innovation)\t|0\t|0.0%|\n",
    "\n",
    "\n",
    "As a last take away, the few MBA-MDI students do not use a Windows laptop for the moment, although these particular users specified they would buy a Windows laptop.\n",
    "\n"
   ]
  },
  {
   "cell_type": "code",
   "execution_count": 9,
   "metadata": {},
   "outputs": [
    {
     "data": {
      "image/png": "[encoded data removed]",
      "text/plain": [
       "<Figure size 792x648 with 2 Axes>"
      ]
     },
     "metadata": {
      "needs_background": "light"
     },
     "output_type": "display_data"
    }
   ],
   "source": [
    "# Graphic number of users per program\n",
    "# Renaming x-axis tick labels\n",
    "positions = (0,1,2,3)\n",
    "labels    = ('MIB_MBAN','One_Year_MBAN', 'MBA_MDI', 'MBA_MBAN')\n",
    "\n",
    "# Plotting programs\n",
    "fig, ax   = plt.subplots(figsize = (11, 9))\n",
    "plt.subplot(2, 2, 1)\n",
    "\n",
    "survey_df['What program are you in?'].value_counts().plot(kind = 'bar')\n",
    "plt.xticks(positions, labels)\n",
    "plt.xticks(rotation = 45)\n",
    "plt.title(\"Students by Program\")\n",
    "plt.ylabel(\"Number of Students\")\n",
    "plt.xlabel(\"Program\")\n",
    "\n",
    "# Graphing by Windows Ownership\n",
    "# Renaming x-axis labels for new graph\n",
    "positions = (0,1,2,3)\n",
    "labels    = ('MIB_MBAN','One_Year_MBAN', 'MBA_MDI', 'MBA_MBAN')\n",
    "\n",
    "# Plotting windows owners by program\n",
    "plt.subplot(2, 2, 2)\n",
    "survey_df['What program are you in?'][survey_df['What laptop do you currently have?']\\\n",
    "          != \"Windows laptop\"].value_counts().plot(kind='bar', color = 'r', \n",
    "                                                   alpha = 0.5, width=0.2, \n",
    "                                                   position=1)\n",
    "survey_df['What program are you in?'][survey_df['What laptop do you currently have?']\\\n",
    "          == \"Windows laptop\"].value_counts().plot(kind='bar',color = 'b', \n",
    "                                                   alpha = 0.5, width=0.2, \n",
    "                                                   position=0)\n",
    "\n",
    "# ax.set_xticklabels(labels)\n",
    "plt.xticks(positions, labels)\n",
    "plt.title(\"Laptop Ownership by Program\")\n",
    "plt.ylabel(\"Number of Students\")\n",
    "plt.xlabel(\"Program\")\n",
    "plt.legend(['Not Windows','Windows laptop'])\n",
    "plt.xticks(rotation = 45)\n",
    "plt.tight_layout()\n",
    "plt.show()"
   ]
  },
  {
   "cell_type": "markdown",
   "metadata": {},
   "source": [
    "---------------------------\n",
    "\n",
    "## Age \n",
    "Looking at the distribution of our ages, we can see a pretty decent spread from ages since the programs at Hult have students coming from all background. We see a majority of users fall in the 20-24 age range. We did find one outlier which had a student at 15 year old. This is not normal since the minimum age required to enroll would be at least 18."
   ]
  },
  {
   "cell_type": "code",
   "execution_count": 10,
   "metadata": {
    "code_folding": [
     0
    ]
   },
   "outputs": [],
   "source": [
    "# # Distribution of age\n",
    "# survey_df['What is your age?'].value_counts()"
   ]
  },
  {
   "cell_type": "markdown",
   "metadata": {},
   "source": [
    "As it is impossible for a 15 year old to attend Hult, we assume that this was a typo of the participant. As we still want to use the other answers, we will replace this value with the median age of the other participants."
   ]
  },
  {
   "cell_type": "code",
   "execution_count": 11,
   "metadata": {},
   "outputs": [],
   "source": [
    "# Replace one value with a the age 15 to the median age of our surveyers\n",
    "survey_df['What is your age?'].replace(to_replace = 15, \n",
    "                                            value = int(survey_df['What is your age?'].median()), \n",
    "                                          inplace = True)"
   ]
  },
  {
   "cell_type": "code",
   "execution_count": 12,
   "metadata": {
    "code_folding": [
     0
    ]
   },
   "outputs": [],
   "source": [
    "# # Looking at the histogram while differentiating which age group currently has a macbook (red) or Windows (blue)\n",
    "# survey_df['What is your age?'].plot.hist(color = 'b', alpha = 0.5)\n",
    "# survey_df['What is your age?'][survey_df['What laptop do you currently have?']=='Windows laptop'].plot.hist(color = 'r',alpha = 0.5)"
   ]
  },
  {
   "cell_type": "markdown",
   "metadata": {},
   "source": [
    "The distribution of macbook and windows owners seems to be quite similar. Although for the age group of people younger than 25, the proportion of macbook users compared to windows users is comparably high. This is why we want to see if generations might have something to do with this:"
   ]
  },
  {
   "cell_type": "markdown",
   "metadata": {},
   "source": [
    "### Generation Considerations\n",
    "\n",
    "According to a [McKinsey](https://www.mckinsey.com/industries/consumer-packaged-goods/our-insights/true-gen-generation-z-and-its-implications-for-companies)report Gen Z are characterized as being independent, self-confident and autonomous. Their consumption habits lean towards uniqueness, ethical and unlimited. On the other hand, Gen Y are confident and ambitious and highly value teamwork. Their consumption habits lean towards experience, festivals, travel and flagships (best products or services). Generations may be utilized as a predictor as it will be interesting to see if such traits are shown in the survey datasets after further unsupervised analysis.\n",
    " \n",
    "\n",
    "\n",
    "According to this [Harvard Business Review Article](https://hbr.org/2017/08/a-survey-of-19-countries-shows-how-generations-x-y-and-z-are-and-arent-different), Generations Y (or Millennials) is considered as people born in between 1984 and 1996 and Generation Z is considered as people born in 1997 or later.\n",
    "\n",
    "For the suvey takers, this gives us the following distribution:"
   ]
  },
  {
   "cell_type": "code",
   "execution_count": 13,
   "metadata": {
    "code_folding": [
     0
    ]
   },
   "outputs": [],
   "source": [
    "# gen_z = survey_df['What is your age?'][survey_df['What is your age?'] <= 23]\n",
    "# gen_y = survey_df['What is your age?'][survey_df['What is your age?'] >  23]\n",
    "\n",
    "# # Pie chart, where the slices will be ordered and plotted counter-clockwise:\n",
    "# labels = 'Gen Y', 'Gen Z'\n",
    "# sizes = [len(gen_y), len(gen_z)]\n",
    "# explode = (0, 0.1)  \n",
    "\n",
    "# fig1, ax1 = plt.subplots()\n",
    "# ax1.pie(sizes, explode=explode, labels=labels, autopct='%1.1f%%',\n",
    "#         shadow=True, startangle=90)\n",
    "# ax1.axis('equal')  \n",
    "\n",
    "# plt.show()"
   ]
  },
  {
   "cell_type": "code",
   "execution_count": 14,
   "metadata": {
    "code_folding": [
     0
    ]
   },
   "outputs": [],
   "source": [
    "# # proportion of users than OWN Windows in Generation Z vs Y\n",
    "# print(\"% of Generation Z that own Windows:\")\n",
    "# print(survey_df[(survey_df['What is your age?'] <= 23) & (survey_df['What laptop do you currently have?']=='Windows laptop')]['surveyID'].count()/survey_df[(survey_df['What is your age?'] <= 23)]['surveyID'].count())\n",
    "\n",
    "# print(\"% of Generation Y that own Windows:\")\n",
    "# print((survey_df[(survey_df['What is your age?'] > 23) & (survey_df['What laptop do you currently have?']=='Windows laptop')]['surveyID'].count()/survey_df[(survey_df['What is your age?'] > 23)]['surveyID'].count()).round(2))"
   ]
  },
  {
   "cell_type": "code",
   "execution_count": 15,
   "metadata": {
    "code_folding": [
     0
    ]
   },
   "outputs": [],
   "source": [
    "# # proportion of users than WANT NEXT Windows in Generation Z vs Y\n",
    "# print(\"% of Generation Z that own Windows:\")\n",
    "# print(survey_df[(survey_df['What is your age?'] <= 23) & (survey_df['What laptop would you buy in next assuming if all laptops cost the same?']=='Windows laptop')]['surveyID'].count()/survey_df[(survey_df['What is your age?'] <= 23)]['surveyID'].count())\n",
    "\n",
    "# print(\"% of Generation Y that own Windows:\")\n",
    "# print((survey_df[(survey_df['What is your age?'] > 23) & (survey_df['What laptop would you buy in next assuming if all laptops cost the same?']=='Windows laptop')]['surveyID'].count()/survey_df[(survey_df['What is your age?'] > 23)]['surveyID'].count()).round(2))"
   ]
  },
  {
   "cell_type": "markdown",
   "metadata": {},
   "source": [
    "Unfortunately, only 60 people can be categorized as generation z which makes it too small of a portion to consider further in the analysis. However we do have some interesting numbers in the ownership percentages despite the smaller population.\n",
    "\n",
    "<br></br>\n",
    "\n",
    "<center>Current Computer -  By Generation</center>\n",
    "\n",
    "Name | Gen Z (60) | Gen Y (332) |\n",
    "---|----| ---|\n",
    "Windows | 25%  | 53%\n",
    "Macbook | 75% | 47%\n",
    "\n",
    "We can see that the younger Generation (Z) have a significantly higher ownership of Macbooks than Windows. Whereas Generation Y is a close split, favoring more Windows.\n",
    "\n",
    "<center>Next Computer -  By Generation</center>\n",
    "\n",
    "Name | Gen Z (60) | Gen Y (332) |\n",
    "---|----| ---|\n",
    "Windows | 27%  | 44%\n",
    "Macbook | 73% | 56%\n",
    "\n",
    "Looking at both the numbers, it looks like Gen Y want to change their next laptop to a Mac. It is important to study psychometric behaviour to understand why a customer is looking to switch. We will study the effects on patterns and behaviours later on in the analysis."
   ]
  },
  {
   "cell_type": "markdown",
   "metadata": {},
   "source": [
    "---------------------------------------\n",
    "\n",
    "## Gender\n",
    "We would want to find out how many male and females own a Macbook vs a Windows. Below we can see the distribution of gender and laptop ownership. \n",
    "<center>Currently Owned - Gender Distribution</center>\n",
    "\n",
    "Name | Male (227) | Female (165) |\n",
    "---|----| ---|\n",
    "Windows | 55%  | 41%\n",
    "Macbook | 45% | 59%\n",
    "\n",
    "We can see that there are a total of 227 Male surveys and 55% of them own a Windows, where females have 165 surveys and a higher percentage own a Macbook.\n",
    "\n",
    "<center>Next Computer - Gender Distribution</center>\n",
    "\n",
    "Name | Male (227) | Female (165) |\n",
    "---|----| ---|\n",
    "Windows | 47%  | 35%\n",
    "Macbook | 50% | 63%\n",
    "Chromebook | 3% | 2%\n",
    "\n",
    "Interesting we see that now we have both Male and Female more in favor for Macbook computers. The female ownership saw significant jump in Macbook interest, and the Male saw a change in favored brand. We also see the addition of a third brand, the Chromebook. The Chromebook takes a small percentage nonetheless. Clearly users if given a choice they would switch to the Macbook."
   ]
  },
  {
   "cell_type": "code",
   "execution_count": 16,
   "metadata": {
    "code_folding": [
     0
    ]
   },
   "outputs": [],
   "source": [
    "# # Distribution of CURRENT computer\n",
    "# # count of females with windows\n",
    "# survey_df[(survey_df['Gender']!=\"Male\") & (survey_df['What laptop do you currently have?']== 'Windows laptop')]['surveyID'].count()/survey_df[survey_df['Gender']!=\"Male\"]['surveyID'].count()\n",
    "\n",
    "# # count of males with windows\n",
    "# survey_df[(survey_df['Gender']==\"Male\") & (survey_df['What laptop do you currently have?']== 'Windows laptop')]['surveyID'].count()/survey_df[survey_df['Gender']==\"Male\"]['surveyID'].count()"
   ]
  },
  {
   "cell_type": "code",
   "execution_count": 17,
   "metadata": {
    "code_folding": [
     0
    ]
   },
   "outputs": [],
   "source": [
    "# # Distribution of NEXT computer\n",
    "# # count of females with windows\n",
    "# survey_df[(survey_df['Gender']!=\"Male\") & (survey_df['What laptop would you buy in next assuming if all laptops cost the same?']== 'Windows laptop')]['surveyID'].count()/survey_df[survey_df['Gender']!=\"Male\"]['surveyID'].count()\n",
    "\n",
    "# # count of males with windows\n",
    "# survey_df[(survey_df['Gender']==\"Male\") & (survey_df['What laptop would you buy in next assuming if all laptops cost the same?']== 'Windows laptop')]['surveyID'].count()/survey_df[survey_df['Gender']==\"Male\"]['surveyID'].count()"
   ]
  },
  {
   "cell_type": "markdown",
   "metadata": {},
   "source": [
    "---------------------------\n",
    "\n",
    "## Improving Nationality\n",
    "As it happens in most unstructured survey questions, the contestants replied to the question \"What is your nationality?\" in many different ways. Most people provided their respective demonym. However, some people entered China instead of Chinese, India instead of Indian, or even a \".\" as an answer. We decided to correct it the following way:\n",
    "\n",
    "- Changed all country names to the respective demonym. i.e.: China changed into Chinese\n",
    "- Changed all multi-ethnic people to a multi-ethnic category. i.e.: French/ Brazilian changed into Multi-ethnic\n",
    "- Changed \".\" or \"calm\" answers to \"Prefer not to answer\" category."
   ]
  },
  {
   "cell_type": "code",
   "execution_count": 18,
   "metadata": {},
   "outputs": [],
   "source": [
    "# Just to show how it looks duplicated\n",
    "# survey_df[survey_df['What is your nationality? '] == 'indian.']\n",
    "# Removing undercapitalized values\n",
    "nationality = survey_df['What is your nationality? '].str.capitalize()\n",
    "\n",
    "# Placing new subset into new colum called 'nationality'\n",
    "survey_df['nationality'] = nationality"
   ]
  },
  {
   "cell_type": "markdown",
   "metadata": {},
   "source": [
    "### Cleaning Nationalities"
   ]
  },
  {
   "cell_type": "code",
   "execution_count": 19,
   "metadata": {},
   "outputs": [],
   "source": [
    "# Dictionary to rename nationality\n",
    "replaceable_names = {\"India\"               : \"Indian\",\n",
    "                     \"Indian.\"             : \"Indian\",\n",
    "                     \"Calm\"                : \"Prefer not to answer\",\n",
    "                     \".\"                   : \"Prefer not to answer\", \n",
    "                     \"China\"               : \"Chinese\",\n",
    "                     \"Taiwan\"              : \"Taiwanese\",\n",
    "                     \"Taiwan( r.o.c)\"      : \"Taiwanese\",\n",
    "                     \"Usa\"                 : \"American\",\n",
    "                     \"Japan\"               : \"Japanese\",\n",
    "                     \"Republic of korea\"   : \"South Korean\",\n",
    "                     \"Ecuador\"             : \"Ecuadorian\",\n",
    "                     \"Brazil\"              : \"Brazilian\",\n",
    "                     \"Russia\"              : \"Russian\",\n",
    "                     \"Spain\"               : \"Spanish\",\n",
    "                     \"Colombia\"            : \"Colombian\",\n",
    "                     \"Indonesia\"           : \"Indonesian\",\n",
    "                     \"Czech republic\"      : \"Czech\",\n",
    "                     \"Panama\"              : \"Panamanian\",\n",
    "                     \"German/american\"     : \"Multi-ethnic\",\n",
    "                     \"South korea\"         : \"South Korean\",\n",
    "                     \"Mauritius\"           : \"Mauritian\",\n",
    "                     \"Italian and spanish\" : \"Multi-ethnic\",\n",
    "                     \"British, indian\"     : \"Multi-ethnic\",\n",
    "                     \"Nigeria\"             : \"Nigerian\",\n",
    "                     \"Korea\"               : \"South Korean\",\n",
    "                     \"Germany\"             : \"German\",\n",
    "                     \"Philippines\"         : \"Filipino\",\n",
    "                     \"Filipino \"           : \"Filipino\",\n",
    "                     \"Peru\"                : \"Peruvian\",\n",
    "                     \"Canada\"              : \"Canadian\",\n",
    "                     \"Belarus\"             : \"Belarusian\",\n",
    "                     \"Congolese (dr congo)\": \"Congolese\",\n",
    "                     \"Dominican \"          : \"Dominican\",\n",
    "                     \"Dominican republic\"  : \"Dominican\",\n",
    "                     \"French/ brazilian\"   : \"Multi-ethnic\",\n",
    "                     \"Caribbean-american\"  : \"American\",\n",
    "                     \"Thailand\"            : \"Thai\",\n",
    "                     \"Belgian \"            : \"Belgian\",\n",
    "                     \"Belgium\"             : \"Belgian\",\n",
    "                     \"Malaysia\"            : \"Malaysian\",\n",
    "                     \"Mexico\"              : \"Mexican\",\n",
    "                     \"Poland\"              : \"Polish\",\n",
    "                     \"Cameroon\"            : \"Cameroonian\",\n",
    "                     \"Armenia\"             : \"Armenian\",\n",
    "                     \"Iran\"                : \"Iranian\",\n",
    "                     \"El salvador\"         : \"Salvarorian\",\n",
    "                     \"Hispanic \"           : \"Prefer not to answer\",\n",
    "                     \"Korean\"              : \"South Korean\",\n",
    "                     \"South african\"       : \"South African\",\n",
    "                     \"Costa rica\"          : \"Costarrican\",\n",
    "                     \"Venezuela\"           : \"Venezuelan\",\n",
    "                     \"English\"             : \"British\"\n",
    "                    }\n",
    "\n",
    "# Replace the matching strings\n",
    "survey_df['nationality'].replace(replaceable_names, inplace = True)\n",
    "\n",
    "# Observing how many nationalities there are\n",
    "# survey_df['nationality'].value_counts()"
   ]
  },
  {
   "cell_type": "markdown",
   "metadata": {},
   "source": [
    "# Nationality Continued\n",
    "\n",
    "\n",
    "As we dig deeper into the distribution of the different nationalities surveyed owned Windows of Macbooks, we narrow it down to the 5 largest nationalities: Indian (68), Chinese (43), German (19), Mexican (17), American (15).\n",
    "\n",
    "Immediately, we notice 3 particular differences into what computers the participants owned:\n",
    "\n",
    "- 65% of Indians own currently Windows computers.\n",
    "- 76% of Mexicans own currently Windows computers.\n",
    "- 20% of Americans own currently Windows computers.\n",
    "\n",
    "<center>Currently Owned - Nationality Distribution</center>\n",
    "\n",
    "\n",
    "5 Largest Nationalities | Indian (68) | Chinese (43) | German (19) | Mexican (17) | American (15)\n",
    "---|----| ---| ---|----| ---|\n",
    "Windows | **65%**  | 40% | 53% | **76%** | <font color=red>**20%**</font>\n",
    "Macbook | 35% | 60% | 47% | 24% | 80%\n",
    "\n",
    "\n",
    "However, our interest also is understanding what kind of computers these participants would have next. **Note:** Please observe <font color=green>green</font> and <font color= red>red</font> depending if the percentage went up or down from the \"What laptop do you currently have?\" to \"What laptop would you buy next?\".\n",
    "\n",
    "\n",
    "<br><center>Next Computer - Nationality Distribution</center>\n",
    "\n",
    "\n",
    "5 Largest Nationalities | Indian (68) | Chinese (43) | German (19) | Mexican (17) | American (15)\n",
    "---|----| ---| ---|----| ---|\n",
    "Windows | <font color=red>56%</font> | <font color=green>44%</font> | <font color=green>58%</font> | <font color=red>65%</font> |<font color=green> 33%</font>\n",
    "Macbook | 44% | 56% | 42% | 35% | 77%\n",
    "\n",
    "\n",
    "We observe that the Chinese (up 4%), Germans (up 5%), and Americans (up 13%) had all increases in what computers they would buy next. Nonetheless, the loss of interest in the Indian (down 9%) and Mexican (down 11%) could be hinting at losing important market share in these countries. We should consider doing market research in these countries to determine whether we should invest in marketing or product features. "
   ]
  },
  {
   "cell_type": "code",
   "execution_count": 2,
   "metadata": {
    "code_folding": []
   },
   "outputs": [],
   "source": [
    "# Distribution of CURRENT computer\n",
    "# count of Indians with windows\n",
    "# wind_india = survey_df[(survey_df['nationality']== \"Indian\") & (survey_df['What laptop do you currently have?']== 'Windows laptop')]['surveyID'].count()/survey_df[survey_df['nationality']==\"Indian\"]['surveyID'].count()\n",
    "# print(f\"\"\"The proportion of Indian participants that have Windows Computers is:{wind_india.round(2)} \"\"\")\n",
    "\n",
    "# # count of Chinese with windows\n",
    "# wind_china = survey_df[(survey_df['nationality']==\"Chinese\") & (survey_df['What laptop do you currently have?']== 'Windows laptop')]['surveyID'].count()/survey_df[survey_df['nationality']==\"Chinese\"]['surveyID'].count()\n",
    "# print(f\"\"\"The proportion of Chinese participants that have Windows Computers is:{wind_china.round(2)} \"\"\")\n",
    "\n",
    "# # count of Germans with windows\n",
    "# wind_germany = survey_df[(survey_df['nationality']==\"German\") & (survey_df['What laptop do you currently have?']== 'Windows laptop')]['surveyID'].count()/survey_df[survey_df['nationality']==\"German\"]['surveyID'].count()\n",
    "# print(f\"\"\"The proportion of German participants that have Windows Computers is:{wind_germany.round(2)} \"\"\")\n",
    "\n",
    "\n",
    "# # count of Mexican with windows\n",
    "# wind_mexico = survey_df[(survey_df['nationality']==\"Mexican\") & (survey_df['What laptop do you currently have?']== 'Windows laptop')]['surveyID'].count()/survey_df[survey_df['nationality']==\"Mexican\"]['surveyID'].count()\n",
    "# print(f\"\"\"The proportion of Mexican participants that have Windows Computers is:{wind_mexico.round(2)} \"\"\")\n",
    "\n",
    "\n",
    "# # count of Americans with windows\n",
    "# wind_usa = survey_df[(survey_df['nationality']==\"American\") & (survey_df['What laptop do you currently have?']== 'Windows laptop')]['surveyID'].count()/survey_df[survey_df['nationality']==\"American\"]['surveyID'].count()\n",
    "# print(f\"\"\"The proportion of American participants that have Windows Computers is:{wind_usa.round(2)} \"\"\")\n"
   ]
  },
  {
   "cell_type": "code",
   "execution_count": 21,
   "metadata": {
    "code_folding": [
     0
    ]
   },
   "outputs": [],
   "source": [
    "# Distribution of computer they will have next!\n",
    "# # count of Indians where windows is the next computers\n",
    "# wind_india = survey_df[(survey_df['nationality']== \"Indian\") & (survey_df['What laptop would you buy in next assuming if all laptops cost the same?']== 'Windows laptop')]['surveyID'].count()/survey_df[survey_df['nationality']==\"Indian\"]['surveyID'].count()\n",
    "# print(f\"\"\"The proportion of Indian participants that want Windows Computers is:{wind_india.round(2)} \"\"\")\n",
    "\n",
    "# # count of Chinese where windows is the next computers\n",
    "# wind_china = survey_df[(survey_df['nationality']==\"Chinese\") & (survey_df['What laptop would you buy in next assuming if all laptops cost the same?']== 'Windows laptop')]['surveyID'].count()/survey_df[survey_df['nationality']==\"Chinese\"]['surveyID'].count()\n",
    "# print(f\"\"\"The proportion of Chinese participants that want Windows Computers is:{wind_china.round(2)} \"\"\")\n",
    "\n",
    "# # count of Germans where windows is the next computers\n",
    "# wind_germany = survey_df[(survey_df['nationality']==\"German\") & (survey_df['What laptop would you buy in next assuming if all laptops cost the same?']== 'Windows laptop')]['surveyID'].count()/survey_df[survey_df['nationality']==\"German\"]['surveyID'].count()\n",
    "# print(f\"\"\"The proportion of German participants that want Windows Computers is:{wind_germany.round(2)} \"\"\")\n",
    "\n",
    "\n",
    "# # count of Mexican where windows is the next computers\n",
    "# wind_mexico = survey_df[(survey_df['nationality']==\"Mexican\") & (survey_df['What laptop would you buy in next assuming if all laptops cost the same?']== 'Windows laptop')]['surveyID'].count()/survey_df[survey_df['nationality']==\"Mexican\"]['surveyID'].count()\n",
    "# print(f\"\"\"The proportion of Mexican participants that want Windows Computers is:{wind_mexico.round(2)} \"\"\")\n",
    "\n",
    "\n",
    "# # count of Americans where windows is the next computers\n",
    "# wind_usa = survey_df[(survey_df['nationality']==\"American\") & (survey_df['What laptop would you buy in next assuming if all laptops cost the same?']== 'Windows laptop')]['surveyID'].count()/survey_df[survey_df['nationality']==\"American\"]['surveyID'].count()\n",
    "# print(f\"\"\"The proportion of American participants that want Windows Computers is:{wind_usa.round(2)} \"\"\")\n"
   ]
  },
  {
   "cell_type": "markdown",
   "metadata": {},
   "source": [
    "-----------------------------------------------------\n",
    "\n",
    "## Ethnicity -> Region\n",
    "We decided to look at the regions people belong to instead of the ethnicity, because we found some responders feeling that the answer options were not displaying an open selection. This caused some people to be hesitant to select a Ethnicity based on the selection. We decided to use the nationality column, to create a new REGION column, which would better represent our demographics later for comparison. We will drop the ethnicity column and created a new column that categorizes people based on the 7 regions."
   ]
  },
  {
   "cell_type": "code",
   "execution_count": 22,
   "metadata": {
    "code_folding": []
   },
   "outputs": [],
   "source": [
    "# Place holder\n",
    "Region = []\n",
    "\n",
    "# For loop for region\n",
    "for nationality in survey_df.iloc[ : , -1]:\n",
    "    if nationality == 'Indian'       or nationality == 'Chinese'\\\n",
    "    or nationality == 'Russian'      or nationality == 'Taiwanese'\\\n",
    "    or nationality == 'South Korean' or nationality == 'Filipino'\\\n",
    "    or nationality == 'Thai'         or nationality == 'Indonesian'\\\n",
    "    or nationality == 'Turkish'      or nationality == 'Vietnamese'\\\n",
    "    or nationality == 'Japanese'     or nationality == 'Kyrgyz'\\\n",
    "    or nationality == 'Palestinian'  or nationality == 'Pakistani'\\\n",
    "    or nationality == 'Armenian'     or nationality == 'Bangladeshi'\\\n",
    "    or nationality == 'Malaysian'    or nationality == 'Iranian':\n",
    "        Region.append('Asia')\n",
    "    elif nationality == 'Nigerian'      or nationality == 'Kenyan'\\\n",
    "      or nationality == 'Congolese'     or nationality == 'Ghanaian'\\\n",
    "      or nationality == 'Ugandan'       or nationality == 'Mauritian'\\\n",
    "      or nationality == 'South African' or nationality == 'Cameroonian':\n",
    "        Region.append('Africa')\n",
    "    elif nationality == 'Mexican'   or nationality == 'American'\\\n",
    "      or nationality == 'Canadian'  or nationality == 'Costarrican'\\\n",
    "      or nationality == 'Dominican' or nationality == 'Panamanian'\\\n",
    "      or nationality == 'Honduran'  or nationality == 'Salvarorian'\\\n",
    "      or nationality == 'Guatemalan':\n",
    "        Region.append('North America')\n",
    "    elif nationality == 'Peruvian'  or nationality == 'Colombian'\\\n",
    "      or nationality == 'Brazilian' or nationality == 'Ecuadorian'\\\n",
    "      or nationality == 'Venezuelan':\n",
    "        Region.append('South America')\n",
    "    elif nationality == 'German'    or nationality == 'Italian'\\\n",
    "      or nationality == 'Spanish'   or nationality == 'Norwegian'\\\n",
    "      or nationality == 'Czech'     or nationality == 'British'\\\n",
    "      or nationality == 'Belgian'   or nationality == 'Belarusian'\\\n",
    "      or nationality == 'Ukrainian' or nationality == 'Portuguese'\\\n",
    "      or nationality == 'Swiss'     or nationality == 'Polish'\\\n",
    "      or nationality == 'Dutch':\n",
    "        Region.append('Europe') \n",
    "    elif nationality == 'Multi-ethnic':\n",
    "        Region.append('Globalized')\n",
    "    else:\n",
    "        Region.append('Prefer not to answer')\n",
    "\n",
    "# Create new columns\n",
    "survey_df['Regions'] = Region"
   ]
  },
  {
   "cell_type": "markdown",
   "metadata": {},
   "source": [
    "## Region Continued\n",
    "We would want to find out how many people from a region own a Macbook vs a Windows. Below we can see the distribution of regions and laptop ownership. \n",
    "<center>Currently Owned - Region Distribution</center>\n",
    "\n",
    "\n",
    "Region | Asia (189) | Europe (62) | North America (51) | South America (51) | Africa (28)\n",
    "---|----| ---| ---|----| ---|\n",
    "Windows | 51%  | 39% | 49% | 69% | 43%\n",
    "Macbook | 49% | 61% | 51% | 31% | 57%\n",
    "\n",
    "We see that people from Asia (189) are the largest in our dataset and 51% of them own a Windows laptop. People from South America with 51 surveys and 69% of them own a Windows laptop.  People from Europe (62 surveys), North America (51 surveys) and Africa (28 surveys) have a higher percentage of people who own a Macbook.\n",
    "\n",
    "<center>Next Computer - Region Distribution</center>\n",
    "\n",
    "\n",
    "Region | Asia (189) | Europe (62) | North America (51) | South America (51) | Africa (28)\n",
    "---|----| ---| ---|----| ---|\n",
    "Windows | <font color=red>43%</font>  | <font color=green>44%</font> | <font color=red>41%</font> | <font color=red>52%</font> | <font color=red>29%</font>\n",
    "Macbook | 54% | 56% | 49% | 46% | 71%\n",
    "Chromebook | 3% | 0% | 8% | 2% | 0%\n",
    "\n",
    "Interesting we see that people from Asia are more in favor of Macbook laptops. People from South America are the only people who still prefer a Windows laptop. People from Europe, North America and Africa still consider their earlier choice of Macbook laptops.  We also see the addition of a third brand, the Chromebook. The Chromebook takes a small percentage nonetheless. Clearly users if given a choice they would switch to the Macbook."
   ]
  },
  {
   "cell_type": "code",
   "execution_count": 23,
   "metadata": {
    "code_folding": []
   },
   "outputs": [],
   "source": [
    "# Distribution of CURRENT computer\n",
    "# count of Asians with windows\n",
    "# survey_df[(survey_df['Regions']== \"Asia\") & (survey_df['What laptop do you currently have?']== 'Windows laptop')]['surveyID'].count()/survey_df[survey_df['Regions']==\"Asia\"]['surveyID'].count()\n",
    "\n",
    "# count of Europeans with windows\n",
    "# survey_df[(survey_df['Regions']==\"Europe\") & (survey_df['What laptop do you currently have?']== 'Windows laptop')]['surveyID'].count()/survey_df[survey_df['Regions']==\"Europe\"]['surveyID'].count()\n",
    "\n",
    "# count of North Americans with windows\n",
    "# survey_df[(survey_df['Regions']==\"North America\") & (survey_df['What laptop do you currently have?']== 'Windows laptop')]['surveyID'].count()/survey_df[survey_df['Regions']==\"North America\"]['surveyID'].count()\n",
    "\n",
    "# count of South Americans with windows\n",
    "# survey_df[(survey_df['Regions']==\"South America\") & (survey_df['What laptop do you currently have?']== 'Windows laptop')]['surveyID'].count()/survey_df[survey_df['Regions']==\"South America\"]['surveyID'].count()\n",
    "\n",
    "# count of Africans with windows\n",
    "# survey_df[(survey_df['Regions']==\"Africa\") & (survey_df['What laptop do you currently have?']== 'Windows laptop')]['surveyID'].count()/survey_df[survey_df['Regions']==\"Africa\"]['surveyID'].count()\n"
   ]
  },
  {
   "cell_type": "code",
   "execution_count": 24,
   "metadata": {
    "code_folding": [
     0
    ]
   },
   "outputs": [],
   "source": [
    "# # Distribution of NEXT computer\n",
    "# count of Asians with windows\n",
    "# survey_df[(survey_df['Regions']==\"Asia\") & (survey_df['What laptop would you buy in next assuming if all laptops cost the same?']== 'Windows laptop')]['surveyID'].count()/survey_df[survey_df['Regions']==\"Asia\"]['surveyID'].count()\n",
    "\n",
    "# count of Europeans with windows\n",
    "# survey_df[(survey_df['Regions']==\"Europe\") & (survey_df['What laptop would you buy in next assuming if all laptops cost the same?']== 'Windows laptop')]['surveyID'].count()/survey_df[survey_df['Regions']==\"Europe\"]['surveyID'].count()\n",
    "\n",
    "# count of North Americans with windows\n",
    "# survey_df[(survey_df['Regions']==\"North America\") & (survey_df['What laptop would you buy in next assuming if all laptops cost the same?']== 'Windows laptop')]['surveyID'].count()/survey_df[survey_df['Regions']==\"North America\"]['surveyID'].count()\n",
    "\n",
    "# count of South Americans with windows\n",
    "# survey_df[(survey_df['Regions']==\"South America\") & (survey_df['What laptop would you buy in next assuming if all laptops cost the same?']== 'Windows laptop')]['surveyID'].count()/survey_df[survey_df['Regions']==\"South America\"]['surveyID'].count()\n",
    "\n",
    "# count of Africans with windows\n",
    "# survey_df[(survey_df['Regions']==\"Africa\") & (survey_df['What laptop would you buy in next assuming if all laptops cost the same?']== 'Windows laptop')]['surveyID'].count()/survey_df[survey_df['Regions']==\"Africa\"]['surveyID'].count()\n",
    "\n"
   ]
  },
  {
   "cell_type": "markdown",
   "metadata": {},
   "source": [
    "# 3. INITIAL INSIGHTS\n",
    "\n",
    "1. Despite having a smaller sample size for participants in the Generation Z grouping, we saw a significantly high rate of Macbook owners in comparison to Windows. This can provide more insights as to why younger people favor Mac over Windows.\n",
    "2. We can see that there are a total of 227 Male surveys and 55% of them own Windows, where females have 165 surveys and a higher percentage own a Macbook.\n"
   ]
  },
  {
   "cell_type": "markdown",
   "metadata": {},
   "source": [
    "----------------------------------\n",
    "\n",
    "# 4. DATA PREP\n",
    "\n",
    "## Duplicate Columns\n",
    "There are 3 exact same columns, we can take the average result of both questions. If the duplicated questions were spread apart, one in the beginning and one at the end, we would consider dropping one, and keep a single result. However since the questions are asked almost right after one another the responses can't be too far apart, and there might be slight differences, so taking the average result would see a better option."
   ]
  },
  {
   "cell_type": "code",
   "execution_count": 25,
   "metadata": {},
   "outputs": [],
   "source": [
    "# Taking the average of the duplicated columns\n",
    "survey_df['Respond effectively to multiple priorities']\\\n",
    "= (survey_df['Respond effectively to multiple priorities']\\\n",
    "+ survey_df['Respond effectively to multiple priorities.1'])/2\n",
    "\n",
    "# Taking the average of the duplicated columns\n",
    "survey_df[\"Take initiative even when circumstances, objectives, or rules aren't clear\"]\\\n",
    "= (survey_df[\"Take initiative even when circumstances, objectives, or rules aren't clear\"]\\\n",
    "+ survey_df[\"Take initiative even when circumstances, objectives, or rules aren't clear.1\"])/2\n",
    "\n",
    "# Taking the average of the duplicated columns\n",
    "survey_df[\"Encourage direct and open discussions\"]\\\n",
    "= (survey_df[\"Encourage direct and open discussions\"]\\\n",
    "+ survey_df[\"Encourage direct and open discussions.1\"])/2"
   ]
  },
  {
   "cell_type": "markdown",
   "metadata": {},
   "source": [
    "### Drop Duplicated Row\n",
    "We found two rows with the exact same value so we will drop it since it's a duplicate."
   ]
  },
  {
   "cell_type": "code",
   "execution_count": 26,
   "metadata": {},
   "outputs": [],
   "source": [
    "# Drop duplicate rows value\n",
    "survey_df = survey_df.drop([223, 153])"
   ]
  },
  {
   "cell_type": "markdown",
   "metadata": {},
   "source": [
    "### Drop Duplicated column\n",
    "Now that we have taken the average of the duplicated results, and saved them into one column we can drop the other column to save our results."
   ]
  },
  {
   "cell_type": "code",
   "execution_count": 27,
   "metadata": {},
   "outputs": [],
   "source": [
    "# Dropping one of the duplicated columns now that we have the average\n",
    "survey_df = survey_df.drop(['Respond effectively to multiple priorities.1',\n",
    "                           \"Take initiative even when circumstances, objectives, or rules aren't clear.1\",\n",
    "                           \"Encourage direct and open discussions.1\"],\n",
    "                           axis = 1)"
   ]
  },
  {
   "cell_type": "markdown",
   "metadata": {},
   "source": [
    "### Demographics\n",
    "For future reference we can create a demographic list, so we can call it later if we want to remove or index in the columns later. In supervised learning we want to remove demographic information to make sure there is no bias in the results. Eliminating the demographic results will help the model perform purely on numbers. We can add back the demographic information in the end to see how our model compares to actual data from the survey."
   ]
  },
  {
   "cell_type": "code",
   "execution_count": 28,
   "metadata": {},
   "outputs": [],
   "source": [
    "# Store demographics in a list\n",
    "demographic_questions = ['surveyID',\n",
    "                         'What laptop do you currently have?',\n",
    "                         'What laptop would you buy in next assuming if all laptops cost the same?',\n",
    "                         'What program are you in?',\n",
    "                         'What is your age?',\n",
    "                         'Gender',\n",
    "                         'What is your nationality? ',\n",
    "                         'nationality',\n",
    "                         'Regions',\n",
    "                         'What is your ethnicity?']\n",
    "\n",
    "# Dropping demographic varaible saved from earlier\n",
    "responders_df = survey_df.drop(demographic_questions, axis = 1)"
   ]
  },
  {
   "cell_type": "markdown",
   "metadata": {},
   "source": [
    "# Big Five Grouping\n",
    "\n",
    "## Groups\n",
    "The Big Five personality traits test examines how a user answers selected questions and see how it relates to either of the following.\n",
    "\n",
    "  1. Extraversion\n",
    "    \n",
    "     A person who scores high in extraversion on a personality test is the life of the party. They enjoy being with people, participating in social gatherings, and are full of energy. A person low in extraversion is less outgoing and is more comfortable working by himself. (Source: [123test](https://www.123test.com/personality-extraversion/))\n",
    "       \n",
    "        \n",
    "        \n",
    "  2. Agreeableness\n",
    "  \n",
    "     People with high agreeableness generally have an optimistic view of human nature and get along well with others. A person who scores low on agreeableness may put their own interests above those of others. They tend to be distant, unfriendly, and uncooperative. (Source: [123test](https://www.123test.com/personality-agreeableness/))\n",
    "  \n",
    "  \n",
    "  3. Conscientiousness\n",
    "  \n",
    "     A person scoring high in conscientiousness usually has a high level of self-discipline. These individuals prefer to follow a plan, rather than act spontaneously. Their methodic planning and perseverance usually makes them highly successful in their chosen occupation.(Source: [123test](https://www.123test.com/personality-conscientiousness/)\n",
    "  \n",
    "  \n",
    "  4. Neuroticism\n",
    "  \n",
    "     People who score high in emotional stability (low in neuroticism) on a career test react less emotionally and are less easily upset. They tend to be emotionally stable, calm, and do not constantly experience negative feelings. The fact that these individuals are free from experiencing negative feelings does not mean that they experience a lot of positive feelings. (Source: [123test](https://www.123test.com/personality-neuroticism/))\n",
    "  \n",
    "  \n",
    "  5. Openness\n",
    "\n",
    "     A person with a high level of openness to experience in a personality test enjoys trying new things. They are imaginative, curious, and open-minded. Individuals who are low in openness to experience would rather not try new things. They are close-minded, literal and enjoy having a routine. (Source: [123test](https://www.123test.com/personality-openness/))\n",
    "\n",
    "\n",
    "## Grouping Strategy\n",
    "To get a better idea of our results, we want to group and aggregate the results based on their traits. Using group strategy from [Open Psychometrics](https://openpsychometrics.org/printable/big-five-personality-test.pdf) we can follow the way they grouped each of the questions. There are a total of 50 question from the original Big Five personality test. We have a total of 77 questions, but we already dropped several columns, so we have less.\n",
    "\n",
    "Using our new dataframe responders_df we have the first 50 rows related to the Big Five. Every 5 questions consists of one of the Big Five traits. Below we can create individual dataframe for each trait, based on their column index."
   ]
  },
  {
   "cell_type": "markdown",
   "metadata": {},
   "source": [
    "### Extraversion"
   ]
  },
  {
   "cell_type": "code",
   "execution_count": 29,
   "metadata": {},
   "outputs": [],
   "source": [
    "# Locate columns for the group\n",
    "extraversion_questions = [0, 5, 10, 15, 20, 25, 30, 35, 40, 45]\n",
    "\n",
    "# Index the columns\n",
    "extraversion = responders_df.iloc[:,extraversion_questions]"
   ]
  },
  {
   "cell_type": "markdown",
   "metadata": {},
   "source": [
    "### Agreeableness"
   ]
  },
  {
   "cell_type": "code",
   "execution_count": 30,
   "metadata": {},
   "outputs": [],
   "source": [
    "# Locate columns for the group\n",
    "agreeableness_questions = [1, 6, 11, 16, 21, 26, 31, 36, 41, 46]\n",
    "\n",
    "# Index the columns\n",
    "agreeableness = responders_df.iloc[:,agreeableness_questions]"
   ]
  },
  {
   "cell_type": "markdown",
   "metadata": {},
   "source": [
    "### Conscientiousness"
   ]
  },
  {
   "cell_type": "code",
   "execution_count": 31,
   "metadata": {},
   "outputs": [],
   "source": [
    "# Locate columns for the group\n",
    "conscientiousness_questions = [2, 7,12, 17, 22, 27, 32, 37, 42, 47]\n",
    "\n",
    "# Index the columns\n",
    "conscientiousness = responders_df.iloc[:,conscientiousness_questions]"
   ]
  },
  {
   "cell_type": "markdown",
   "metadata": {},
   "source": [
    "### Neuroticism"
   ]
  },
  {
   "cell_type": "code",
   "execution_count": 32,
   "metadata": {},
   "outputs": [],
   "source": [
    "# Locate columns for the group\n",
    "neuroticism_questions = [3, 8, 13, 18, 23, 28, 33, 38, 43, 48]\n",
    "\n",
    "# Index the columns\n",
    "neuroticism = responders_df.iloc[:,neuroticism_questions]"
   ]
  },
  {
   "cell_type": "markdown",
   "metadata": {},
   "source": [
    "### Openness"
   ]
  },
  {
   "cell_type": "code",
   "execution_count": 33,
   "metadata": {},
   "outputs": [],
   "source": [
    "# Locate columns for the group\n",
    "openness_questions = [4, 9, 14, 19, 24, 29, 34, 39, 44, 49]\n",
    "\n",
    "# Index the columns\n",
    "openness = responders_df.iloc[:,openness_questions]"
   ]
  },
  {
   "cell_type": "markdown",
   "metadata": {},
   "source": [
    "# Big Five Traits - Formula\n",
    "Now we have each of the traits grouped into individual columns. Using the formula from [Open Psychometrics](https://openpsychometrics.org/printable/big-five-personality-test.pdf) we can construct the process in how to aggregate the results into a single column. Using this technique will help manage the amount of questions into a compact solution for easier analysis."
   ]
  },
  {
   "cell_type": "code",
   "execution_count": 34,
   "metadata": {},
   "outputs": [],
   "source": [
    "# Calculate total of extraversion group\n",
    "extraversion_total = 20 + extraversion.iloc[:,0] - extraversion.iloc[:,1]\\\n",
    "+ extraversion.iloc[:,2] - extraversion.iloc[:, 3] + extraversion.iloc[:, 4]\\\n",
    "- extraversion.iloc[:, 5] + extraversion.iloc[:, 6] - extraversion.iloc[:, 7]\\\n",
    "+ extraversion.iloc[:, 8] - extraversion.iloc[:, 9]\n",
    "\n",
    "# Calculate total of agreeableness group\n",
    "agreeableness_total = 14 - agreeableness.iloc[:,0] + agreeableness.iloc[:,1]\\\n",
    "-agreeableness.iloc[:,2] + agreeableness.iloc[:, 3] - agreeableness.iloc[:, 4]\\\n",
    "+ agreeableness.iloc[:, 5] - agreeableness.iloc[:, 6] + agreeableness.iloc[:, 7]\\\n",
    "+ agreeableness.iloc[:, 8] + agreeableness.iloc[:, 9]\n",
    "\n",
    "# Calculate total of conscientiousness group\n",
    "conscientiousness_total = 14 + conscientiousness.iloc[:,0]\\\n",
    "- conscientiousness.iloc[:,1] +conscientiousness.iloc[:,2]\\\n",
    "- conscientiousness.iloc[:, 3] + conscientiousness.iloc[:, 4]\\\n",
    "- conscientiousness.iloc[:, 5] + conscientiousness.iloc[:, 6]\\\n",
    "- conscientiousness.iloc[:, 7] + conscientiousness.iloc[:, 8]\\\n",
    "+ conscientiousness.iloc[:, 9]\n",
    "\n",
    "# Calculate total of neuroticism group\n",
    "neuroticism_total = 38 - neuroticism.iloc[:,0] + neuroticism.iloc[:,1]\\\n",
    "-neuroticism.iloc[:,2] + neuroticism.iloc[:, 3] - neuroticism.iloc[:, 4]\\\n",
    "- neuroticism.iloc[:, 5] - neuroticism.iloc[:, 6] - neuroticism.iloc[:, 7]\\\n",
    "- neuroticism.iloc[:, 8] - neuroticism.iloc[:, 9]\n",
    "\n",
    "# Calculate total of openness group\n",
    "openness_total = 8 + openness.iloc[:,0] - openness.iloc[:,1]\\\n",
    "+ openness.iloc[:,2] - openness.iloc[:, 3] + openness.iloc[:, 4]\\\n",
    "- openness.iloc[:, 5] + openness.iloc[:, 6] + openness.iloc[:, 7]\\\n",
    "+ openness.iloc[:, 8] + openness.iloc[:, 9]"
   ]
  },
  {
   "cell_type": "markdown",
   "metadata": {},
   "source": [
    "## Interpreting Results\n",
    "- Extroversion (E) is the personality trait of seeking fulfillment from sources outside the self or\n",
    "in community. High scorers tend to be very social while low scorers prefer to work on their\n",
    "projects alone.\n",
    "- Agreeableness (A) reflects much individuals adjust their behavior to suit others. High scorers\n",
    "are typically polite and like people. Low scorers tend to 'tell it like it is'.\n",
    "- Conscientiousness (C) is the personality trait of being honest and hardworking. High scorers\n",
    "tend to follow rules and prefer clean homes. Low scorers may be messy and cheat others.\n",
    "- Neuroticism (N) is the personality trait of being emotional.\n",
    "- Openness to Experience (O) is the personality trait of seeking new experience and intellectual\n",
    "pursuits. High scores may day dream a lot. Low scorers may be very down to earth.\n",
    "\n",
    "Source: [Open Psychometrics](https://openpsychometrics.org/printable/big-five-personality-test.pdf)"
   ]
  },
  {
   "cell_type": "markdown",
   "metadata": {},
   "source": [
    "# Hult DNA Grouping\n",
    "\n",
    "The <b>Hult DNA</b> is a set of aspirations for the professional development of Hult students around the world, and a tool to assist the alignment of their skills with future employer needs. They are grouped into three Thinking, Communicating and Team Building\n",
    "\n",
    "    \n",
    "- Thinking Practice 1: Shows Self Awareness\n",
    "- Thinking Practice 2: Embraces Change\n",
    "- Thinking Practice 3: Demonstrates Dynamic Thinking  \n",
    "\n",
    "\n",
    "- Communicating Practice 1: Speaks and Listens Skillfully\n",
    "- Communicating Practice 2: Influences Confidently\n",
    "- Communicating Practice 3: Presents Ideas Effectively  \n",
    "\n",
    "\n",
    "- Team Building Practice 1: Builds collaborative Relationships\n",
    "- Team Building Practice 2: Inspires and Motivates\n",
    "- Team Building Practice 3: Resolves Conflicts Constructively\n",
    "\n",
    "\n",
    "Following a similar process we will index each question into their respective group, then build a formula around it to obtain aggregated results for the questions."
   ]
  },
  {
   "cell_type": "code",
   "execution_count": 35,
   "metadata": {},
   "outputs": [],
   "source": [
    "# Locate columns for the group\n",
    "thinking_questions = [50, 51, 52, 53, 54, 55]\n",
    "\n",
    "# Index the columns\n",
    "thinking = responders_df.iloc[:,thinking_questions]"
   ]
  },
  {
   "cell_type": "code",
   "execution_count": 36,
   "metadata": {},
   "outputs": [],
   "source": [
    "# Locate columns for the group\n",
    "team_questions = [56, 59, 60, 64, 65, 66, 67]\n",
    "\n",
    "# Index the columns\n",
    "team = responders_df.iloc[:,team_questions]"
   ]
  },
  {
   "cell_type": "code",
   "execution_count": 37,
   "metadata": {},
   "outputs": [],
   "source": [
    "# Locate columns for the group\n",
    "communication_questions = [57, 58, 61, 62, 63]\n",
    "\n",
    "# Index the columns\n",
    "communication = responders_df.iloc[:,communication_questions]"
   ]
  },
  {
   "cell_type": "markdown",
   "metadata": {},
   "source": [
    "# Hult DNA - Formula\n",
    "Now we can analyze each Hult DNA groups, and  construct a similar formula that was used from the Big Five source.\n",
    "\n",
    "In creating a metric on which to analyze the Hult DNA, we added all positive connotated questions and subtracted negative connotated questions."
   ]
  },
  {
   "cell_type": "code",
   "execution_count": 38,
   "metadata": {},
   "outputs": [],
   "source": [
    "# Calculate total of thinking group\n",
    "thinking_total = thinking.iloc[:,0] - thinking.iloc[:,1] + thinking.iloc[:,2]\\\n",
    "+ thinking.iloc[:, 3] + thinking.iloc[:, 4] + thinking.iloc[:, 5]\n",
    "\n",
    "# Calculate total of team group\n",
    "team_total = team.iloc[:,0] + team.iloc[:,1] + team.iloc[:,2]\\\n",
    "+ team.iloc[:, 3] + team.iloc[:, 4] + team.iloc[:, 5] + team.iloc[:, 6]\n",
    "\n",
    "# Calculate total of communication group\n",
    "communication_total = communication.iloc[:,0] - communication.iloc[:,1]\\\n",
    "+ communication.iloc[:,2] - communication.iloc[:, 3] + communication.iloc[:, 4]"
   ]
  },
  {
   "cell_type": "markdown",
   "metadata": {},
   "source": [
    "## Interpreting Results\n",
    "\n",
    "- Thinking is the ability to have emotional intelligence and generate innovative solutions in complex situations. High scorers tend to have a passion for learning and personal improvement. Low scorers lack self-awareness and stick to tried and true methods\n",
    "\n",
    "\n",
    "- Team Building is the ability to be assertive in initiating difficult conversations while driving for results through collaboration and engagement. High scorers tend to create an atmosphere for an open flow of direct and honest communication. Low scorers deal ineffectively with conflict and avoid challenging and/or learning situations.\n",
    "\n",
    "\n",
    "- Communication is the ability to listen and communicate actively, positively and non-judgmentally through verbal and non-verbal means in a logical and understandable way. High scorers tend to be quite visionary and influence the thoughts and opinions of others. Low scorers tends to advocate their own views and are very unilateral in ideas or vision."
   ]
  },
  {
   "cell_type": "markdown",
   "metadata": {},
   "source": [
    "# Merge New Groups\n",
    "In this step we see our results have grouped all the questions into their Big Five and Hult DNA groups. Now we have a dataframe with 8 variables. We can use this information to start scaling and using PCA to determine the types of personas we have. We will also name each column name to ensure we have the correct variables when we use our PCA model in the analysis."
   ]
  },
  {
   "cell_type": "code",
   "execution_count": 39,
   "metadata": {},
   "outputs": [],
   "source": [
    "# Merge the grouped data into one df\n",
    "grouped_df = pd.concat([extraversion_total,agreeableness_total, conscientiousness_total, \n",
    "                        neuroticism_total, openness_total, thinking_total,\n",
    "                        team_total, communication_total], axis = 1)\n",
    "\n",
    "# Convert group df into a datafra,\n",
    "grouped_df = pd.DataFrame(grouped_df)\n",
    "\n",
    "# Create list of column names\n",
    "names = ['extraversion', 'agreeableness', 'conscientiousness', 'neuroticism', \n",
    "         'openness', 'thinking','team','communication']\n",
    "\n",
    "# Assign the names to the new dataframe\n",
    "grouped_df.columns = names"
   ]
  },
  {
   "cell_type": "markdown",
   "metadata": {},
   "source": [
    "## Explore Distribution\n",
    "Using the new groups we have developed we can create a distribution of how many users own a Window laptop vs another. We can look into which groups have higher distributions and look to find any patterns in our data."
   ]
  },
  {
   "cell_type": "code",
   "execution_count": 40,
   "metadata": {
    "code_folding": [
     0
    ],
    "scrolled": false
   },
   "outputs": [],
   "source": [
    "# grouped_laptop = pd.concat([grouped_df, survey_df['What laptop do you currently have?']], axis = 1)\n",
    "\n",
    "# for col in grouped_laptop:\n",
    "#     if col == 'What laptop do you currently have?':\n",
    "#         break\n",
    "#     grouped_laptop[col].plot.hist(color = 'b', title = col)\n",
    "#     grouped_laptop[col][grouped_laptop['What laptop do you currently have?']=='Macbook'].plot.hist(color = 'r')\n",
    "#     plt.show()"
   ]
  },
  {
   "cell_type": "markdown",
   "metadata": {},
   "source": [
    "-------------------------------------\n",
    "\n",
    "#  Correlation"
   ]
  },
  {
   "cell_type": "code",
   "execution_count": 41,
   "metadata": {
    "code_folding": []
   },
   "outputs": [],
   "source": [
    "# # Correlation\n",
    "# grouped_df.corr().round(2)"
   ]
  },
  {
   "cell_type": "markdown",
   "metadata": {},
   "source": [
    "## Explanation\n",
    "\n",
    "The correlation below measures the relationship between The Big 5 characteristics and the Hult DNA traits of thinking, team and communication. We wanted to analyze whether there are relationships between the answers respondents gave in the survey. We can observe the following:\n",
    "\n",
    "- Thinking is the most correlated trait amongst personality types. It makes sense as the Thinking trait is for people that are self aware, creative, solution-driven, characteristics that are also essential in Conscientiousness (Corr. = .5),Openness(Corr. = .58), Team Building (Corr. = 65), Communication (Corr. =.51).\n",
    "- Communication and Team Building also have a correlation of .55, which again highlights the importance expressing your thoughts properly when working in teams.\n",
    "- The correlation of these characteristics gives us insight into how personality traits overlap.\n",
    "\n",
    "\n",
    "<center><h3> Factor Loading Results </h3></center>\n",
    "\n",
    "\n",
    "group|Extraversion| Agreeableness| Conscientiousness| Neuroticism| Openness| Thinking| Team| Communication\n",
    "-----|------------|--------------|------------------|------------|---------|---------|-----|--------------\n",
    "Extraversion\t|1.00\t|0.25\t|0.08\t|0.13\t|0.22\t|0.32\t|0.29\t|0.24\n",
    "Agreeableness\t|0.25\t|1.00\t|0.29\t|0.09\t|0.30\t|0.39\t|**0.50**\t|0.39\n",
    "Conscientiousness\t|0.08\t|0.29\t|1.00\t|0.22\t|0.29\t|**0.50**\t|0.33\t|0.44\n",
    "Neuroticism\t|0.13\t|0.09\t|0.22\t|1.00\t|0.10\t|0.18\t|0.12\t|0.18\n",
    "Openness\t|0.22\t|0.30\t|0.29\t|0.10\t|1.00\t|0.58\t|0.39\t|0.38\n",
    "Thinking\t|0.32\t|0.39\t|<font color= green>**0.50**</font>\t|0.18\t|<font color=green>**0.58**</text>\t|1.00\t|<font color= green>**0.65**</font>\t|<font color = green>**0.51**</font>\n",
    "Team\t|0.29\t|**0.50**\t|0.33\t|0.12\t|0.39\t|**0.65**\t|1.00\t|**0.55**\n",
    "Communication\t|0.24\t|0.39\t|0.44\t|0.18\t|0.38\t|0.51\t|<font color=blue>**0.55**</font>\t|1.00\n",
    "\n",
    "\n"
   ]
  },
  {
   "cell_type": "markdown",
   "metadata": {},
   "source": [
    "-----------------------------------------------------------------------------------"
   ]
  },
  {
   "cell_type": "markdown",
   "metadata": {},
   "source": [
    "# 5. PCA MODEL\n",
    "\n",
    "Principal Component Analysis, or PCA, is a dimensionality-reduction method that is often used to reduce the dimensionality of large data sets, by transforming a large set of variables into a smaller one that still contains most of the information in the large set. \n",
    "(Source: [Builtin](https://builtin.com/data-science/step-step-explanation-principal-component-analysis))\n",
    "\n",
    "What this means is that we should be getting our dataset split into small portions of the entire dataset. We can then use this to find relationships and compare it to the group or columns we have to make assumptions on our data. \n",
    "\n",
    "First we will want to scale our data.\n",
    "\n",
    "# Scaling Data\n",
    "Given our highly varying features and striving to avoid certain variables to have a higher magnitude against the others, we need to bring all our relevant variables at the same level of magnitude without affecting how they are correlated to each other. In addition, scaling our features helps us assume normality (a bell-shape distribution)."
   ]
  },
  {
   "cell_type": "code",
   "execution_count": 42,
   "metadata": {},
   "outputs": [],
   "source": [
    "# Instantiate scaler\n",
    "scaler = StandardScaler()\n",
    "\n",
    "# Fit the dataframe\n",
    "scaler.fit(grouped_df)\n",
    "\n",
    "# Transform the scaler on the dataframe\n",
    "X_scaled = scaler.transform(grouped_df)\n",
    "\n",
    "# Convert it to a dataframe\n",
    "responders_scaled = pd.DataFrame(X_scaled)\n",
    "\n",
    "# Assign column names from original dataframe\n",
    "responders_scaled.columns = grouped_df.columns"
   ]
  },
  {
   "cell_type": "markdown",
   "metadata": {},
   "source": [
    "### Correlation on Scaled Data\n",
    "By doing this check, we make sure that scaling did not affect the correlation among our variables while bringing them to the same magnitude."
   ]
  },
  {
   "cell_type": "code",
   "execution_count": 43,
   "metadata": {},
   "outputs": [],
   "source": [
    "# # Check correaltion matches\n",
    "# responders_scaled.corr().round(2)"
   ]
  },
  {
   "cell_type": "markdown",
   "metadata": {},
   "source": [
    "# PCA - No Components\n",
    "\n",
    "PCA helps our data analysis based on projection methods. We use PCA to observe trends, jumps, clusters and outliers. This overview may uncover the relationships between observations and variables, and among the variables (Source: [Umetrics](https://blog.umetrics.com/what-is-principal-component-analysis-pca-and-how-it-is-used)).\n",
    "\n",
    "Now we have our scaled data we can build our PCA model.\n",
    "\n",
    "First we can build two user defined functions that we will use later to graph our results."
   ]
  },
  {
   "cell_type": "code",
   "execution_count": 44,
   "metadata": {
    "code_folding": [
     0
    ]
   },
   "outputs": [],
   "source": [
    "# User defined functions for graphics\n",
    "\n",
    "########################################\n",
    "# inertia\n",
    "########################################\n",
    "def interia_plot(data, max_clust = 50):\n",
    "    \"\"\"\n",
    "PARAMETERS\n",
    "----------\n",
    "data      : DataFrame, data from which to build clusters. Dataset should be scaled\n",
    "max_clust : int, maximum of range for how many clusters to check interia, default 50\n",
    "    \"\"\"\n",
    "\n",
    "    ks = range(1, max_clust)\n",
    "    inertias = []\n",
    "\n",
    "    for k in ks:\n",
    "        # INSTANTIATING a kmeans object\n",
    "        model = KMeans(n_clusters = k)\n",
    "\n",
    "        # FITTING to the data\n",
    "        model.fit(data)\n",
    "\n",
    "        # append each inertia to the list of inertias\n",
    "        inertias.append(model.inertia_)\n",
    "\n",
    "    # plotting ks vs inertias\n",
    "    fig, ax = plt.subplots(figsize = (12, 8))\n",
    "    plt.plot(ks, inertias, '-o')\n",
    "\n",
    "    # labeling and displaying the plot\n",
    "    plt.xlabel('number of clusters, k')\n",
    "    plt.ylabel('inertia')\n",
    "    plt.xticks(ks)\n",
    "    plt.show()\n",
    "\n",
    "########################################\n",
    "# scree_plot\n",
    "########################################\n",
    "def scree_plot(pca_object):\n",
    "    # building a scree plot\n",
    "\n",
    "    # setting plot size\n",
    "    fig, ax = plt.subplots(figsize=(10, 8))\n",
    "    features = range(pca_object.n_components_)\n",
    "\n",
    "    # developing a scree plot\n",
    "    plt.plot(features,\n",
    "             pca_object.explained_variance_ratio_,\n",
    "             linewidth = 2,\n",
    "             marker = 'o',\n",
    "             markersize = 10,\n",
    "             markeredgecolor = 'black',\n",
    "             markerfacecolor = 'grey')\n",
    "\n",
    "    # setting more plot options\n",
    "    plt.title('Scree Plot')\n",
    "    plt.xlabel('PCA feature')\n",
    "    plt.ylabel('Explained Variance')\n",
    "    plt.xticks(features)\n",
    "        \n",
    "    # displaying the plot\n",
    "    plt.show()"
   ]
  },
  {
   "cell_type": "markdown",
   "metadata": {},
   "source": [
    "Initially we want to observe the model without restricting the number of components. This information will provide us insights as to where we should cut of the component mark. \n",
    "\n",
    "We use a scree plot to select the principal components to keep. An ideal curve should be steep, then bends at an “elbow” — this is your cutting-off point — and after that flattens out. (Source: [Bio Turing](https://blog.bioturing.com/2018/06/18/how-to-read-pca-biplots-and-scree-plots/))"
   ]
  },
  {
   "cell_type": "code",
   "execution_count": 45,
   "metadata": {},
   "outputs": [
    {
     "data": {
      "image/png": "[encoded data removed]",
      "text/plain": [
       "<Figure size 720x576 with 1 Axes>"
      ]
     },
     "metadata": {
      "needs_background": "light"
     },
     "output_type": "display_data"
    }
   ],
   "source": [
    "# Instantiate PCA\n",
    "pca = PCA(n_components = None, random_state = 222)\n",
    "\n",
    "# Fit and transform\n",
    "survey_pca = pca.fit_transform(responders_scaled)\n",
    "\n",
    "# Visualizing pca\n",
    "scree_plot(pca_object = pca)"
   ]
  },
  {
   "cell_type": "markdown",
   "metadata": {},
   "source": [
    "PCA 1 (variable 0) is explaining 45% of the entire dataset. This means it is an important PCA to reduce errors. The second component will work on what's left of the dataset, and make sure there is no correlation to the previous component. They don't go in the same direction in any given time.\n",
    "\n",
    "Looking at our scree plot we can observe a clear drop and bending of the \"elbow\" at PCA 1 however, we see it continue to decrease. We ideally want a point where it is relatively flat. We can make some assumptions and say that the best cut of point for components would be at PCA 4, which would equal 5 components since it starts at 0."
   ]
  },
  {
   "cell_type": "markdown",
   "metadata": {},
   "source": [
    "# PCA - 5 Components (Limited)\n",
    "Now we have determined the number of components we can build a new PCA model specifying 5 as the number of components allowed in our model. We can compare how both look in the next steps."
   ]
  },
  {
   "cell_type": "code",
   "execution_count": 46,
   "metadata": {
    "scrolled": false
   },
   "outputs": [
    {
     "data": {
      "image/png": "[encoded data removed]",
      "text/plain": [
       "<Figure size 720x576 with 1 Axes>"
      ]
     },
     "metadata": {
      "needs_background": "light"
     },
     "output_type": "display_data"
    }
   ],
   "source": [
    "# Instantiate\n",
    "pca_5_features = PCA(n_components = 5, random_state = 222)\n",
    "\n",
    "\n",
    "# Fit and transform\n",
    "surveys_pca_5_features = pca_5_features.fit_transform(responders_scaled)\n",
    "\n",
    "\n",
    "# Visualizing pca\n",
    "scree_plot(pca_object = pca_5_features)"
   ]
  },
  {
   "cell_type": "markdown",
   "metadata": {},
   "source": [
    "# Factor Loading\n",
    "\n",
    "Factor loading is a technique that is used to reduce a large number of variables into fewer numbers of factors.  This technique extracts maximum common variance from all variables and puts them into a common score. (Source: [Statistics Solution](https://www.statisticssolutions.com/factor-analysis-sem-factor-analysis/)). Using Factor loading we can get a better overview of our PCA results, and start thinking of next steps."
   ]
  },
  {
   "cell_type": "code",
   "execution_count": 47,
   "metadata": {
    "code_folding": []
   },
   "outputs": [],
   "source": [
    "# dataframe for max limit components\n",
    "factor_loadings = pd.DataFrame(pd.np.transpose(pca.components_))\n",
    "\n",
    "# convert the index from column names\n",
    "factor_loadings = factor_loadings.set_index(responders_scaled.columns)\n",
    "\n",
    "\n",
    "# dataframe for limited components\n",
    "factor_loadings_5 = pd.DataFrame(pd.np.transpose(pca_5_features.components_))\n",
    "\n",
    "\n",
    "# convert the index from column names\n",
    "factor_loadings_5 = factor_loadings_5.set_index(responders_scaled.columns)"
   ]
  },
  {
   "cell_type": "markdown",
   "metadata": {},
   "source": [
    "# Results\n",
    "Now we can determine if there are any obvious personas in our data. If there are we would want to label them to make sure we understand the potential customers that would related to each of Big Five and Hult DNA results."
   ]
  },
  {
   "cell_type": "code",
   "execution_count": 48,
   "metadata": {
    "code_folding": [
     0
    ]
   },
   "outputs": [],
   "source": [
    "# # Factor loading results\n",
    "# print(f\"\"\"\n",
    "# Factor Loading - Max Component\n",
    "# ------------------------------\n",
    "# {factor_loadings.round(2)}\n",
    "# \"\"\"\n",
    "# )\n",
    "\n",
    "# print(f\"\"\"\n",
    "# Factor Loading - 5 Components\n",
    "# ------------------------------\n",
    "# {factor_loadings_5.round(2)}\n",
    "# \"\"\")"
   ]
  },
  {
   "cell_type": "code",
   "execution_count": 49,
   "metadata": {},
   "outputs": [],
   "source": [
    "# # Factor loading results for 5 components\n",
    "# factor_loadings_5.round(2)"
   ]
  },
  {
   "cell_type": "markdown",
   "metadata": {},
   "source": [
    "We want to look at each of our PCAs and compare it to our traits and Hult DNA results. Using this information we can try build personas that make sense for potential groupings of customers. \n",
    "\n",
    "Since Factor loadings are correlation coefficients between observed variables and latent common factors (Source: [Sage](https://methods.sagepub.com/reference/encyc-of-research-design/n149.xml)) we can see if there are strong correlations compared to our common factors. Higher positive values, present a strong positive relationship, and high negative values present opposite effects. It is important we look at both positive and negative values to help determine appropriate assignments for our potential personas."
   ]
  },
  {
   "cell_type": "markdown",
   "metadata": {},
   "source": [
    "# Name Principal Components\n",
    "We can name the results based on what similarities we see. When we observe the results, we can see that having a high value would mean they are generally more inclined to the stronger side of that trait. However, when we look at neuroticism it is the opposite. Individuals who score low in neuroticism tend to be more emotionally stable and less reactive to stress. They tend to be calm, even-tempered, and less likely to feel tense or rattled. Although they are low in negative emotion, they are not necessarily high on positive emotion. Being high in scores of positive emotion is generally an element of the independent trait of extraversion. (Source: [Wikipedia](https://en.wikipedia.org/wiki/Neuroticism))\n",
    "\n",
    "## User Personas\n",
    "Using our result we defined 5 types of personas that would relate to our PCAs. Developing personas will give us more granular insights into who our customers are and potential insights on future customers. Each persona will carry unique characteristics that will embody both a Big Five trait and the Hult DNA group.\n",
    "\n",
    "    \n",
    "### PCA 0 - Aspiring Professionals:\n",
    "    \n",
    "While being positive in all of our aspects, the first persona has especially remarkable values in the Hult DNA questions compared to its peers. As the Hult DNA aims to develop mission-driven, globally aware professionals, this persona is named thereafter. Simultaneously, this group of people also shows extraversion, agreeableness, conscientiousness and openness, all of which are skills identified as a strong performing professional.\n",
    "    \n",
    "### PCA 1 -  Confident:\n",
    "The \"Confident\" persona scores a strong negative score for neuroticism, and, as explained briefly before, this personality trait measures the emotional stability of a person. The characteristics of someone with such type of score is someone that can keep their calm under stress and are quite confident in decision making.\n",
    "\n",
    "### PCA 2 - Introvert:\n",
    "\n",
    "The introverts are well reserved individuals who prefer to spend time alone and avoid large groups. They have a hard time socializing as they are very private when it comes to sharing details about their life. They like to keep things in order, come prepared to school or work, are goal-driven, and persistent. They follow regular schedules and work hard to achieve their goals.\n",
    "\n",
    "### PCA 3 - The Risk Averse:\n",
    "\n",
    "In comparison to their peers, the risk averse persona finds it important to get along with others. These individuals are helpful, friendly, considerate, and generous. They are generally more closed-off, resistant to change, and analytical. They stick to the tried and true methods and are as such named thereafter. \n",
    "\n",
    "### PCA 4 - Self Reliant: (ADD)"
   ]
  },
  {
   "cell_type": "code",
   "execution_count": 50,
   "metadata": {},
   "outputs": [],
   "source": [
    "# Naming each principal component\n",
    "factor_loadings_5.columns = [\"Aspiring Professionals\", \"Confident\", \n",
    "                             \"Introvert\",\"The Risk Averse\", \"Self Reliant\" ]"
   ]
  },
  {
   "cell_type": "markdown",
   "metadata": {},
   "source": [
    "<center><h3> Factor Loading Results </h3></center>\n",
    "\n",
    "group |Aspiring Professionals |Confident|Introvert|The Risk Averse |Self Reliant|\n",
    "------|------|------|------|------|------|\n",
    "extraversion|\t0.239239|\t0.238011\t|-0.797871|\t-0.129386|\t0.455790|\n",
    "agreeableness|\t0.349362\t|0.227192\t|-0.045709\t|0.615855|\t-0.338560|\n",
    "conscientiousness|\t0.332470\t|-0.392311|\t0.395255|\t0.056264|\t0.583222|\n",
    "neuroticism|\t0.153660\t|-0.826001\t|-0.411765|\t0.039746|\t-0.347435|\n",
    "openness\t|0.356786|\t0.116955\t|0.117953|\t-0.675684\t|-0.379267|\n",
    "thinking\t|0.458497|\t0.031757\t|0.089709\t|-0.269469\t|0.005162|\n",
    "team|\t0.430280\t|0.196215|\t0.021179|\t0.209964|\t-0.182956|\n",
    "communication\t|0.404854|\t-0.048598|\t0.114571|\t0.161211|\t0.198573|"
   ]
  },
  {
   "cell_type": "markdown",
   "metadata": {},
   "source": [
    "# Analyze Factor Loadings\n",
    "Now we can evaluate how each of our PCA user personas relates to individual customers. This will help separate customers for targeting based on their traits. We can isolate users who are more heavy on one trait which will help our overall analysis in finding users with Windows computers, or who would purchase a Windows computer."
   ]
  },
  {
   "cell_type": "code",
   "execution_count": 51,
   "metadata": {
    "code_folding": []
   },
   "outputs": [],
   "source": [
    "# Analyzing factor strengths per customer\n",
    "X_pca_reduced = pca_5_features.transform(responders_scaled)\n",
    "\n",
    "# Converting to a DataFrame\n",
    "X_pca_df = pd.DataFrame(X_pca_reduced)\n",
    "\n",
    "# Checking the results\n",
    "X_pca_df.columns = factor_loadings_5.columns"
   ]
  },
  {
   "cell_type": "markdown",
   "metadata": {},
   "source": [
    "# Potential Customer Segments\n",
    "After defining the types of customers and personas we have a better understanding of groups based on similarities in the questions and answers they submitted. Diving deeper into customer segments, we can isolate specific groups within each persona and find what percentage they make up of the customer base. Having more targeted demographics can be an opportunity for Microsoft to explore in more detail.\n",
    "     \n",
    "PCAS:\n",
    "\n",
    " 1. Aspiring Professionals\n",
    " 2. Confident\n",
    " 3. Introvert\n",
    " 4. The Risk Averse\n",
    " 5. Self Reliant\n",
    "     \n",
    "We can use our personas developed to find groups of customers that are meeting a certain threshold. The threshold we can set to find the groups will be 1 standard deviation above the mean. This will allow use to find users who are above the threshold and are more predominant in their PCA."
   ]
  },
  {
   "cell_type": "code",
   "execution_count": 52,
   "metadata": {
    "code_folding": [
     0
    ]
   },
   "outputs": [],
   "source": [
    "# # Find one std deviation more than the mean\n",
    "# print(abs(X_pca_df['Aspiring Professionals'].mean())+X_pca_df['Aspiring Professionals'].std())\n",
    "\n",
    "# # what percentage of people in this group are above \n",
    "# len(X_pca_df['Aspiring Professionals'][X_pca_df['Aspiring Professionals'] > 1.8]) / len(X_pca_df['Aspiring Professionals'])"
   ]
  },
  {
   "cell_type": "code",
   "execution_count": 53,
   "metadata": {
    "code_folding": [
     0
    ]
   },
   "outputs": [],
   "source": [
    "# # Find one std deviation more than the mean\n",
    "# print(abs(X_pca_df['Confident'].mean())+ X_pca_df['Confident'].std())\n",
    "\n",
    "# # what percentage of people in this group are above \n",
    "# len(X_pca_df['Confident'][X_pca_df['Confident'] > 1]) / len(X_pca_df['Confident'])"
   ]
  },
  {
   "cell_type": "code",
   "execution_count": 54,
   "metadata": {
    "code_folding": [
     0
    ]
   },
   "outputs": [],
   "source": [
    "# # Find one std deviation more than the mean\n",
    "# print(abs(X_pca_df['Introvert'].mean())+X_pca_df['Introvert'].std())\n",
    "\n",
    "# # what percentage of people in this group are above \n",
    "# len(X_pca_df['Introvert'][X_pca_df['Introvert'] > 1]) / len(X_pca_df['Introvert'])"
   ]
  },
  {
   "cell_type": "code",
   "execution_count": 55,
   "metadata": {
    "code_folding": [
     0
    ]
   },
   "outputs": [],
   "source": [
    "# # Find one std deviation more than the mean\n",
    "# print(abs(X_pca_df['The Risk Averse'].mean())+X_pca_df['The Risk Averse'].std())\n",
    "\n",
    "# # what percentage of people in this group are above \n",
    "# len(X_pca_df['The Risk Averse'][X_pca_df['The Risk Averse'] > 0.9]) / len(X_pca_df['The Risk Averse'])"
   ]
  },
  {
   "cell_type": "code",
   "execution_count": 56,
   "metadata": {
    "code_folding": [
     0
    ]
   },
   "outputs": [],
   "source": [
    "# # Find one std deviation more than the mean\n",
    "# print(abs(X_pca_df['Self Reliant'].mean())+X_pca_df['Self Reliant'].std())\n",
    "\n",
    "# # what percentage of people in this group are above \n",
    "# len(X_pca_df['Self Reliant'][X_pca_df['Self Reliant'] > 0.8]) / len(X_pca_df['Self Reliant'])"
   ]
  },
  {
   "cell_type": "markdown",
   "metadata": {},
   "source": [
    "### Insights:\n",
    "Below are thresholds we can explore more for potential customer segments based on the PCAs, we will use this later in our analysis.\n",
    "\n",
    "- About 18% (71 users) of the PCA Aspiring Professional meet the established threshold\n",
    "- About 17% (67 users) of the PCA Confident meet the established threshold\n",
    "- About 17% (67 users) of the PCA Introvert meet the established threshold\n",
    "- About 13% (51 users) of the PCA The Risk Averse meet the established threshold\n",
    "- About 15% (59 users) of the PCA Self Reliant meet the established threshold"
   ]
  },
  {
   "cell_type": "markdown",
   "metadata": {},
   "source": [
    "-----------------------------------------\n",
    "\n",
    "# 6. CLUSTERING\n",
    "Now we want to find the types of clusters, and compare them to the PCA results. \n",
    "\n",
    "Clustering is when we divide the data points into different groups. The process of clustering tries to group data points based on similarities or differences. Using the clustering method we look for \"clumps\" of data piling up together, which would essentially provide a single cluster. Data points which are on the border of 2 clusters would lie somewhere in between, and will illustrate the similarities it has to both clusters.\n",
    "\n",
    "It is basically a collection of objects on the basis of similarity and dissimilarity between them. (Source: [Geeks4Geeks](https://www.geeksforgeeks.org/clustering-in-machine-learning/))"
   ]
  },
  {
   "cell_type": "markdown",
   "metadata": {},
   "source": [
    "## Scale the PCA data\n",
    "We will need to rescale the PCA dataframe, because the variances are not aligned. Before we cluster we need to ensure that the variance's after scaling are consistent. We will conduct the same scaling process below we did earlier but this time use the new PCA dataframe."
   ]
  },
  {
   "cell_type": "code",
   "execution_count": 57,
   "metadata": {},
   "outputs": [],
   "source": [
    "# Instantiate\n",
    "scaler = StandardScaler()\n",
    "\n",
    "# Fit scaler \n",
    "scaler.fit(X_pca_df)\n",
    "\n",
    "# Transform \n",
    "scaled_pca = scaler.transform(X_pca_df)\n",
    "\n",
    "# Convert to dataframe\n",
    "pca_scaled = pd.DataFrame(scaled_pca)\n",
    "\n",
    "# Match the column names\n",
    "pca_scaled.columns = factor_loadings_5.columns"
   ]
  },
  {
   "cell_type": "markdown",
   "metadata": {},
   "source": [
    "## Agglomerative / Hierarchical Clustering\n",
    "Hierarchical clustering algorithms group similar objects into groups called clusters.Agglomerative — Bottom up approach. Start with many small clusters and merge them together to create bigger clusters. (Source: [Towards Data Science](https://towardsdatascience.com/machine-learning-algorithms-part-12-hierarchical-agglomerative-clustering-example-in-python-1e18e0075019))\n",
    "\n",
    "There are 3 types of Agglomerative clustering:\n",
    "\n",
    "   1. ward - tries to focus grouping in a way to reduce variance in each cluster. This is the default method used. The end result has cluster in similar sizes.\n",
    "\n",
    "   2. average - groups clusters that are similar with their average distance between points.\n",
    "\n",
    "   3. complete - merges clusters that have the smallest maximum distance"
   ]
  },
  {
   "cell_type": "code",
   "execution_count": 58,
   "metadata": {
    "code_folding": [
     0
    ]
   },
   "outputs": [],
   "source": [
    "# # Aglo clusters\n",
    "# # grouping data based on Ward distance\n",
    "# agglo_clusters = linkage(y = pca_scaled,\n",
    "#                                  method = 'ward')\n",
    "\n",
    "# # set plot size\n",
    "# plt.figure(figsize=(12, 8))\n",
    "\n",
    "# # graph dendrogram\n",
    "# dendrogram(Z = agglo_clusters)\n",
    "\n",
    "# # dislay plot\n",
    "# plt.show()"
   ]
  },
  {
   "cell_type": "markdown",
   "metadata": {},
   "source": [
    "If we were to display the full plot we would see the dendrogram produced a lot of clusters. Because there are too many clusters to analyze we can proceed to the next step which is to use the interia plot formula we defined earlier and determine the point of convergence.\n",
    "\n",
    "## Intertia Plot\n",
    "\n",
    "Inertia: Intuitively, inertia tells how far away the points within a cluster are. Therefore, a small of inertia is aimed for. The range of inertia’s value starts from zero and goes up. (Source: [Towards Data Science](https://towardsdatascience.com/k-means-clustering-from-a-to-z-f6242a314e9a)).\n",
    "\n",
    "We can use a similar method we did earlier with the PCAs, where we look for the elbow cut off point where the numbers start to converge."
   ]
  },
  {
   "cell_type": "code",
   "execution_count": 59,
   "metadata": {},
   "outputs": [
    {
     "data": {
      "image/png": "[encoded data removed]",
      "text/plain": [
       "<Figure size 864x576 with 1 Axes>"
      ]
     },
     "metadata": {
      "needs_background": "light"
     },
     "output_type": "display_data"
    }
   ],
   "source": [
    "# Intertia Plot\n",
    "interia_plot(data = pca_scaled)"
   ]
  },
  {
   "cell_type": "markdown",
   "metadata": {},
   "source": [
    "## Cluster Testing\n",
    "We can experiment the number of cluster based on the inertia plot above. We look for the point where the line starts to converge. Looking at the initial plot we see it converge around 6 or 7. The number of clusters does not need to represent the same as the number of components we selected earlier in the PCA example."
   ]
  },
  {
   "cell_type": "code",
   "execution_count": 60,
   "metadata": {
    "code_folding": []
   },
   "outputs": [],
   "source": [
    "# Instantiating a k-Means object with seven clusters\n",
    "k_pca_responders = KMeans(n_clusters = 7,\n",
    "                          random_state = 802)\n",
    "\n",
    "# Fitting the object to the data\n",
    "k_pca_responders.fit(pca_scaled)\n",
    "\n",
    "# Converting the clusters to a DataFrame\n",
    "kmeans_pca_responders = pd.DataFrame({'Cluster': k_pca_responders.labels_})"
   ]
  },
  {
   "cell_type": "code",
   "execution_count": 61,
   "metadata": {
    "code_folding": []
   },
   "outputs": [],
   "source": [
    "# # Checking the results\n",
    "# print(\"Groups of Clusters\")\n",
    "# print(\"------------------\")\n",
    "# print(kmeans_pca_responders.iloc[: , 0].value_counts())"
   ]
  },
  {
   "cell_type": "markdown",
   "metadata": {},
   "source": [
    "\n",
    "<center>Cluster Distribution</center>\n",
    "\n",
    "Cluster Number | Number of Participants in Clusters |\n",
    "---|----|\n",
    "1  |  87|\n",
    "0   | 68|\n",
    "2   | 66|\n",
    "4   | 52|\n",
    "3   | 46|\n",
    "6   | 45|\n",
    "5   | 26|"
   ]
  },
  {
   "cell_type": "markdown",
   "metadata": {},
   "source": [
    "We observe our results there is a relatively even distribution of survey results in each cluster with each cluster gradually getting more populated. There is no significant jump in the amount of data points in a cluster which is good. We can explore this in the following steps on how the clusters impact our other results."
   ]
  },
  {
   "cell_type": "markdown",
   "metadata": {},
   "source": [
    "## Centroid (Means) for Clusters\n",
    "The centroids will be the center of each cluster we have developed. All the data points within the cluster will be centered around it.\n",
    "\n",
    "Using sklearn's formula we can determine the centroids for our scaled PCA results. \n",
    "Coordinates of cluster centers. If the algorithm stops before fully converging (see tol and max_iter), these will not be consistent with labels. (Source: [Sklearn](https://scikit-learn.org/stable/modules/generated/sklearn.cluster.KMeans.html)) Since we will not be outputted with labels we will want to make sure we add back the labels we choose from the factor_loading stage."
   ]
  },
  {
   "cell_type": "code",
   "execution_count": 62,
   "metadata": {},
   "outputs": [
    {
     "data": {
      "text/html": [
       "<div>\n",
       "<style scoped>\n",
       "    .dataframe tbody tr th:only-of-type {\n",
       "        vertical-align: middle;\n",
       "    }\n",
       "\n",
       "    .dataframe tbody tr th {\n",
       "        vertical-align: top;\n",
       "    }\n",
       "\n",
       "    .dataframe thead th {\n",
       "        text-align: right;\n",
       "    }\n",
       "</style>\n",
       "<table border=\"1\" class=\"dataframe\">\n",
       "  <thead>\n",
       "    <tr style=\"text-align: right;\">\n",
       "      <th></th>\n",
       "      <th>Aspiring Professionals</th>\n",
       "      <th>Confident</th>\n",
       "      <th>Introvert</th>\n",
       "      <th>The Risk Averse</th>\n",
       "      <th>Self Reliant</th>\n",
       "    </tr>\n",
       "  </thead>\n",
       "  <tbody>\n",
       "    <tr>\n",
       "      <td>0</td>\n",
       "      <td>-0.59</td>\n",
       "      <td>-1.01</td>\n",
       "      <td>0.09</td>\n",
       "      <td>0.80</td>\n",
       "      <td>0.55</td>\n",
       "    </tr>\n",
       "    <tr>\n",
       "      <td>1</td>\n",
       "      <td>1.54</td>\n",
       "      <td>0.46</td>\n",
       "      <td>0.01</td>\n",
       "      <td>-0.50</td>\n",
       "      <td>0.87</td>\n",
       "    </tr>\n",
       "    <tr>\n",
       "      <td>2</td>\n",
       "      <td>-1.13</td>\n",
       "      <td>0.55</td>\n",
       "      <td>-0.28</td>\n",
       "      <td>-0.74</td>\n",
       "      <td>0.52</td>\n",
       "    </tr>\n",
       "    <tr>\n",
       "      <td>3</td>\n",
       "      <td>-0.14</td>\n",
       "      <td>1.07</td>\n",
       "      <td>1.05</td>\n",
       "      <td>0.47</td>\n",
       "      <td>-0.05</td>\n",
       "    </tr>\n",
       "    <tr>\n",
       "      <td>4</td>\n",
       "      <td>0.27</td>\n",
       "      <td>-0.75</td>\n",
       "      <td>1.12</td>\n",
       "      <td>-0.51</td>\n",
       "      <td>-0.95</td>\n",
       "    </tr>\n",
       "    <tr>\n",
       "      <td>5</td>\n",
       "      <td>0.14</td>\n",
       "      <td>0.55</td>\n",
       "      <td>-0.73</td>\n",
       "      <td>0.92</td>\n",
       "      <td>-0.95</td>\n",
       "    </tr>\n",
       "    <tr>\n",
       "      <td>6</td>\n",
       "      <td>0.36</td>\n",
       "      <td>-0.40</td>\n",
       "      <td>-0.89</td>\n",
       "      <td>-0.45</td>\n",
       "      <td>0.01</td>\n",
       "    </tr>\n",
       "  </tbody>\n",
       "</table>\n",
       "</div>"
      ],
      "text/plain": [
       "   Aspiring Professionals  Confident  Introvert  The Risk Averse  Self Reliant\n",
       "0                   -0.59      -1.01       0.09             0.80          0.55\n",
       "1                    1.54       0.46       0.01            -0.50          0.87\n",
       "2                   -1.13       0.55      -0.28            -0.74          0.52\n",
       "3                   -0.14       1.07       1.05             0.47         -0.05\n",
       "4                    0.27      -0.75       1.12            -0.51         -0.95\n",
       "5                    0.14       0.55      -0.73             0.92         -0.95\n",
       "6                    0.36      -0.40      -0.89            -0.45          0.01"
      ]
     },
     "execution_count": 62,
     "metadata": {},
     "output_type": "execute_result"
    }
   ],
   "source": [
    "# Storing cluster centers\n",
    "centroids_pca = k_pca_responders.cluster_centers_\n",
    "\n",
    "# Converting cluster centers into a DataFrame\n",
    "centroids_pca_df = pd.DataFrame(centroids_pca)\n",
    "\n",
    "# Renaming principal components\n",
    "centroids_pca_df.columns = factor_loadings_5.columns\n",
    "\n",
    "# Checking results (clusters = rows, pc = columns)\n",
    "centroids_pca_df.round(2)"
   ]
  },
  {
   "cell_type": "markdown",
   "metadata": {},
   "source": [
    "## Name Clusters\n",
    "We can continue our profiling by developing names for our clusters to see if we can go more specific in the clusters we have.\n",
    "\n",
    "### Adventurous: \n",
    "This cluster is identified by the following combination of PCA personalities we identified.\n",
    "Very low in aspiration for professionalism, indicating that climbing the corporate ladder and creating a career professionally is not a priority for these people. While being moderately confident, this cluster is rather introverted with a medium low score for introvertism. They tolerate risk and even seem to have no problem with seeking it, indicated by the moderately low score for risk aversion.\n",
    "This cluster also consists of people who are relatively high in self reliance. This means they are confident enough in their skills and take action relying on only themselves.\n",
    "\n",
    "### Team Player:\n",
    "This cluster is mainly characterized by two extreme personality types: High introvertism and very low self reliance. These persons need a team around them to rely on and ultimately help themselves to perform at their best. Even though they are not extroverted, they don’t shy the risk, making them the undercover risk seeker within group dynamics. This is indicated by the low score of risk aversion. They also are only slightly elevated within the aspiring professionals trait, making it seem like they enjoy it more to be in the background and fulfilling supportive roles.\n",
    "\n",
    "### Conservatives:\n",
    "This cluster is defined by having very high ambitions to become an aspiring professional. They are aiming to be exactly that by fulfilling very conservative traits of personality. Being characterized by moving within the moderate areas of every personality group, they are rather low in confidence but still extroverted potentially because they realize that to become successful they need to get awareness. They are moderately risk averse as it fits in with being conservative but rely on themselves in a moderate way. They seem to go the common road on those traits.\n",
    "\n",
    "### Self Starters:\n",
    "The students in this cluster rely on others and bring high confidence to the team they are working with. Even though they are moderately high in introvertism, they do not lack the confidence. It seems as if they like to push their ideas into a team environment to mitigate the risk as they are characterized by being rather risk averse. These students seem to be more or less indifferent about focusing on their careers or rather living a laissez faire life, but enjoy starting the conversations about specific topics.\n",
    "\n",
    "### Traditionalists:\n",
    "These students like to keep to themselves. They are low in confidence and high in introvertism, resulting in a high level of self reliance. Traditionally, they are tackling problems on their own but barely taking risks, as they are relatively high in risk aversion. They do not have aspirations for their professional future and seem to enjoy working with what they are used to. This cluster likes it’s own traditions and it seems like it barely moves away from them.\n",
    "\n",
    "### Leaders:\n",
    "The leaders cluster is mainly characterized by being very open to risk. They do not fear any potential damages and combined with their confidence, like to tackle them on their own. These people believe in themselves and their ability almost all the time and regardless of the situation they find themselves in. They have aspirations for their career and try to fulfill them by taking risks and going for the big shots instead of a steady approach. Being neutral in introvertism/extrovertism makes it seem like they adapt to situations.\n",
    "\n",
    "### Small Community:\n",
    "The students in this cluster love social contact and being in the center of social dynamics. This is represented by the high extrovertism. They also do not rely on themselves when tackling tasks but rather make it a team effort. They also don’t seem to put a big importance on their professional aspirations compared to being socially acknowledged. The moderately low score in risk aversion shows that they don’t seek the risk but are fine with taking them once in a while.\n",
    "\n"
   ]
  },
  {
   "cell_type": "code",
   "execution_count": 63,
   "metadata": {
    "scrolled": true
   },
   "outputs": [],
   "source": [
    "# Cluster\n",
    "cluster = ['Traditionalists', 'Adventurous', 'Conservatives', 'Team Player', \n",
    "           'Small Community', 'Leaders', 'Self Starter']\n",
    "\n",
    "# Assigning cluster object \n",
    "centroids_pca_df.index = cluster\n",
    "# centroids_pca_df.round(2)"
   ]
  },
  {
   "cell_type": "markdown",
   "metadata": {},
   "source": [
    "\n",
    "Clusters | Aspiring Professionals\t|Confident\t|Introvert\t|The Risk Averse\t|Self Reliant|\n",
    "---------|---------------|-----------|-----------|-------------------|------------|\n",
    "Traditionalists\t|-0.58\t|-0.75|\t0.43|\t0.86\t|0.42|\n",
    "Adventurous|\t-0.81\t|-0.08|\t-0.58|\t-0.63\t|0.40|\n",
    "Conservatives\t|1.10|\t-0.57|\t-0.50|\t0.13|\t0.24|\n",
    "Team Player|\t0.24\t|-0.57|\t1.16\t|-0.63|\t-1.16|\n",
    "Small Community|\t0.09\t|0.66|\t-0.87\t|0.56|\t-1.08|\n",
    "Leaders|\t0.82\t|1.27\t|-0.10\t|-1.36|\t0.69|\n",
    "Self Starter|\t0.00|\t1.23\t|1.06|\t0.52|\t0.27|"
   ]
  },
  {
   "cell_type": "code",
   "execution_count": 64,
   "metadata": {},
   "outputs": [],
   "source": [
    "# Renaming regions\n",
    "cluster_names = {0 : 'Traditionalists',\n",
    "                 1 : 'Adventurous',\n",
    "                 2 : 'Conservatives',\n",
    "                 3 : 'Team Player',\n",
    "                 4 : 'Small Community',\n",
    "                 5 : 'Leaders',\n",
    "                 6 : \"Self Starter\"\n",
    "                }\n",
    "\n",
    "# Saving new cluster namesS\n",
    "kmeans_pca_responders['Cluster'].replace(cluster_names, inplace = True)"
   ]
  },
  {
   "cell_type": "markdown",
   "metadata": {},
   "source": [
    "# 7. RESULTS\n",
    "Now that we have our PCA components, and our clusters we can merge back our demographic information to observe the results.\n",
    "\n",
    "We will reference our demographics once again to index the necessary columns and concatenate the results."
   ]
  },
  {
   "cell_type": "code",
   "execution_count": 65,
   "metadata": {},
   "outputs": [],
   "source": [
    "# Store demographics in a list\n",
    "demographic_questions = ['What laptop do you currently have?',\n",
    "                         'What laptop would you buy in next assuming if all laptops cost the same?',\n",
    "                         'What program are you in?',\n",
    "                         'What is your age?',\n",
    "                         'Gender',\n",
    "                         'nationality',\n",
    "                         'Regions'\n",
    "                        ]\n",
    "\n",
    "# Concat clusters with the PCA dataframe\n",
    "cluster_pca = pd.concat([kmeans_pca_responders,\n",
    "                         X_pca_df],\n",
    "                         axis = 1)\n",
    "\n",
    "\n",
    "# Concatenating demographic information with pca-clusters\n",
    "final_df = pd.concat([survey_df.loc[ : , demographic_questions],\n",
    "                     cluster_pca],\n",
    "                     axis = 1)\n",
    "# Checking the results\n",
    "# final_df.head()"
   ]
  },
  {
   "cell_type": "markdown",
   "metadata": {},
   "source": [
    "We now have a complete dataframe of our original demographics and the PCAs based on the Big Five traits, and the clustering we developed using KMeans. Using this information we have can easily compare the results we achieved with the demographics, and continue our exploration. \n",
    "\n",
    "---------------------\n"
   ]
  },
  {
   "cell_type": "markdown",
   "metadata": {},
   "source": [
    "# Continued Exploration - Explore Window Laptop Purchases\n",
    "Now that we have our demographic data available next to our clusters and PCAs we can continue to explore the results and see if there is anything interesting that stands out about the groupings.\n",
    "\n",
    "## Current Owners vs Future Owners\n",
    "We can observe below which PCAs and Clusters are current owners of Laptops, and narrow down a targeted demographic.\n",
    "\n",
    "## PCAs - Laptop Ownership\n",
    "We can use this information to isolate a very specific set of customers. Using this information we can study consumer behaviour and purchasing patterns to understand the ideal Windows laptop customer. Combining both current windows owners and users that are above our average we can see the following target groups below."
   ]
  },
  {
   "cell_type": "code",
   "execution_count": 66,
   "metadata": {
    "code_folding": [
     0
    ]
   },
   "outputs": [],
   "source": [
    "# # Current ownership\n",
    "# # aspiring professionals proportion\n",
    "# print(\"Aspiring Professional - Above Average:\")\n",
    "# print((final_df[(final_df['Aspiring Professionals'] >1.8) & (final_df[\"What laptop do you currently have?\"]=='Windows laptop')]['Cluster'].count()/final_df['Cluster'].count()).round(2))\n",
    "\n",
    "# # confident proportion\n",
    "# print(\"Confident - Above Average:\")\n",
    "# print((final_df[(final_df['Confident'] > 1) & (final_df[\"What laptop do you currently have?\"]=='Windows laptop')]['Cluster'].count()/final_df['Cluster'].count()).round(2))\n",
    "\n",
    "# # introvert proportion\n",
    "# print(\"Introvert - Above Average:\")\n",
    "# print((final_df[(final_df['Introvert'] > 1) & (final_df[\"What laptop do you currently have?\"]=='Windows laptop')]['Cluster'].count()/final_df['Cluster'].count()).round(2))\n",
    "\n",
    "# # risk averse proportion\n",
    "# print(\"The Risk Averse - Above Average:\")\n",
    "# print((final_df[(final_df['The Risk Averse'] > 0.9) & (final_df[\"What laptop do you currently have?\"]=='Windows laptop')]['Cluster'].count()/final_df['Cluster'].count()).round(2))\n",
    "\n",
    "# # self reliant proportion\n",
    "# print(\"Self Reliant - Above Average:\")\n",
    "# print((final_df[(final_df['Self Reliant'] > 0.8) & (final_df[\"What laptop do you currently have?\"]=='Windows laptop')]['Cluster'].count()/final_df['Cluster'].count()).round(2))"
   ]
  },
  {
   "cell_type": "code",
   "execution_count": 67,
   "metadata": {
    "code_folding": [
     0
    ]
   },
   "outputs": [],
   "source": [
    "# # Next purchase\n",
    "# # aspiring professionals proportion\n",
    "# print(\"Aspiring Professional - Above Average:\")\n",
    "# print((final_df[(final_df['Aspiring Professionals'] >1.8) & (final_df[\"What laptop would you buy in next assuming if all laptops cost the same?\"]=='Windows laptop')]['Cluster'].count()/final_df['Cluster'].count()).round(2))\n",
    "\n",
    "# # confident proportion\n",
    "# print(\"Confident - Above Average:\")\n",
    "# print((final_df[(final_df['Confident'] > 1) & (final_df[\"What laptop would you buy in next assuming if all laptops cost the same?\"]=='Windows laptop')]['Cluster'].count()/final_df['Cluster'].count()).round(2))\n",
    "\n",
    "# # introvert proportion\n",
    "# print(\"Introvert - Above Average:\")\n",
    "# print((final_df[(final_df['Introvert'] > 1) & (final_df[\"What laptop would you buy in next assuming if all laptops cost the same?\"]=='Windows laptop')]['Cluster'].count()/final_df['Cluster'].count()).round(2))\n",
    "\n",
    "# # risk averse proportion\n",
    "# print(\"The Risk Averse - Above Average:\")\n",
    "# print((final_df[(final_df['The Risk Averse'] > 0.9) & (final_df[\"What laptop would you buy in next assuming if all laptops cost the same?\"]=='Windows laptop')]['Cluster'].count()/final_df['Cluster'].count()).round(2))\n",
    "\n",
    "# # self reliant proportion\n",
    "# print(\"Self Reliant - Above Average:\")\n",
    "# print((final_df[(final_df['Self Reliant'] > 0.8) & (final_df[\"What laptop would you buy in next assuming if all laptops cost the same?\"]=='Windows laptop')]['Cluster'].count()/final_df['Cluster'].count()).round(2))"
   ]
  },
  {
   "cell_type": "markdown",
   "metadata": {},
   "source": [
    "<center>PCA Current Windows Owner (Above Average)</center>\n",
    "\n",
    "PCA | Number of Participants | % of Users |\n",
    "----|-------------------------------|------------|\n",
    "Aspiring Professionals | 29  | 7% |\n",
    "Confident | 32 |  8%  |\n",
    "Introvert | 32 | 8%|\n",
    "The Risk Averse| 24  | 6% |\n",
    "Self Reliant | 20 | 5% |\n",
    "\n",
    "Now we see the types of users that are more predominantly one type of our personas, basing on our thresholds we can explore what changes are there when they are given the opportunity to change their laptops. If we run our analysis, and look at how users changed their future preferences we see the following.\n",
    "\n",
    "<center>PCA, Future Windows Owner (Above Average)</center>\n",
    "\n",
    "PCA | Number of Participants | % of Users |\n",
    "----|-------------------------------|------------|\n",
    "Aspiring Professionals | 21  | 5% |\n",
    "Confident | 23 |  6%  |\n",
    "Introvert | 24 | 7%|\n",
    "The Risk Averse| 18  | 4% |\n",
    "Self Reliant | 17 | 4% |\n",
    "\n",
    "We can see from the result very specific size customer segments who are interested in either continuing to own a Windows laptop, or will switch from a Macbook in their next laptop. These are strong users who are favored to a persona and want to own a Windows laptop. Using these demographic targeting, we can again find a unique customer segment, and study user patterns and behavior.\n",
    "\n",
    " - For Aspiring Professional we see a drop from 29 users to 21 users owning Windows\n",
    " - For Confident we see a drop from 32 users to 23 users owning Windows\n",
    " - For Introvert we see a drop from 32 users to 24 users owning Windows\n",
    " - For The Risk Averse we see a drop from 24 users to 18 users owning Windows\n",
    " - For Confident we see a drop from 20 users to 17 users owning Windows\n",
    "\n",
    "It seems that there is a consistent drop in the customers that are more isolated into one persona look to change into a Macbook. Using this information we may want to look into ways to targeting customers who are more evenly spread out in personas."
   ]
  },
  {
   "cell_type": "code",
   "execution_count": 68,
   "metadata": {
    "code_folding": []
   },
   "outputs": [],
   "source": [
    "# # Checking changes in user personas\n",
    "# final_df[(final_df['Self Reliant'] > 0.8) & (final_df[\"What laptop do you currently have?\"]=='Windows laptop')]['What laptop would you buy in next assuming if all laptops cost the same?'].value_counts()"
   ]
  },
  {
   "cell_type": "markdown",
   "metadata": {},
   "source": [
    "---------------------\n",
    "\n",
    "## Clustering - Laptop Ownership\n",
    "Next, we can explore how the effects of the clusters related to current and future Windows laptop owners. Below we see two tables with the results."
   ]
  },
  {
   "cell_type": "code",
   "execution_count": 69,
   "metadata": {
    "code_folding": [
     0
    ]
   },
   "outputs": [],
   "source": [
    "# # Finding how much percentage of a cluster owns a windows\n",
    "\n",
    "# print(\"Cluster 1:\")\n",
    "# print((final_df[(final_df['Cluster']=='Traditionalists')&(final_df['What laptop do you currently have?'] == 'Windows laptop')]['Cluster'].count()/final_df[(final_df['Cluster']=='Traditionalists')]['Cluster'].count()).round(2))\n",
    "\n",
    "# # finding how much percentage of a cluster owns a windows\n",
    "\n",
    "# print(\"Cluster 2:\")\n",
    "# print((final_df[(final_df['Cluster']=='Adventurous')&(final_df['What laptop do you currently have?'] == 'Windows laptop')]['Cluster'].count()/final_df[(final_df['Cluster']=='Adventurous')]['Cluster'].count()).round(2))\n",
    "\n",
    "# # finding how much percentage of a cluster owns a windows\n",
    "\n",
    "# print(\"Cluster 3:\")\n",
    "# print((final_df[(final_df['Cluster']=='Conservatives')&(final_df['What laptop do you currently have?'] == 'Windows laptop')]['Cluster'].count()/final_df[(final_df['Cluster']=='Conservatives')]['Cluster'].count()).round(2))\n",
    "\n",
    "# # finding how much percentage of a cluster owns a windows\n",
    "\n",
    "# print(\"Cluster 4:\")\n",
    "# print((final_df[(final_df['Cluster']=='Team Player')&(final_df['What laptop do you currently have?'] == 'Windows laptop')]['Cluster'].count()/final_df[(final_df['Cluster']=='Team Player')]['Cluster'].count()).round(2))\n",
    "\n",
    "\n",
    "# # finding how much percentage of a cluster owns a windows\n",
    "\n",
    "# print(\"Cluster 5:\")\n",
    "# print((final_df[(final_df['Cluster']=='Small Community')&(final_df['What laptop do you currently have?'] == 'Windows laptop')]['Cluster'].count()/final_df[(final_df['Cluster']=='Small Community')]['Cluster'].count()).round(2))\n",
    "\n",
    "# # finding how much percentage of a cluster owns a windows\n",
    "\n",
    "# print(\"Cluster 6:\")\n",
    "# print((final_df[(final_df['Cluster']=='Leaders')&(final_df['What laptop do you currently have?'] == 'Windows laptop')]['Cluster'].count()/final_df[(final_df['Cluster']=='Leaders')]['Cluster'].count()).round(2))\n",
    "\n",
    "\n",
    "\n",
    "# # finding how much percentage of a cluster owns a windows\n",
    "# print(\"Cluster 7:\")\n",
    "# print((final_df[(final_df['Cluster']==\"Self Starter\")&(final_df['What laptop do you currently have?'] == 'Windows laptop')]['Cluster'].count()/final_df[(final_df['Cluster']==\"Self Starter\")]['Cluster'].count()).round(2))"
   ]
  },
  {
   "cell_type": "code",
   "execution_count": 70,
   "metadata": {},
   "outputs": [],
   "source": [
    "# final_df[(final_df['Cluster']=='Self Starter')].count()"
   ]
  },
  {
   "cell_type": "code",
   "execution_count": 71,
   "metadata": {
    "code_folding": [
     0
    ]
   },
   "outputs": [],
   "source": [
    "# # Finding how much percentage of a cluster owns a windows\n",
    "\n",
    "# print(\"Cluster 1:\")\n",
    "# print((final_df[(final_df['Cluster']=='Traditionalists')&(final_df['What laptop would you buy in next assuming if all laptops cost the same?'] == 'Windows laptop')]['Cluster'].count()/final_df[(final_df['Cluster']=='Traditionalists')]['Cluster'].count()).round(2))\n",
    "\n",
    "# # finding how much percentage of a cluster owns a windows\n",
    "\n",
    "# print(\"Cluster 2:\")\n",
    "# print((final_df[(final_df['Cluster']=='Adventurous')&(final_df['What laptop would you buy in next assuming if all laptops cost the same?'] == 'Windows laptop')]['Cluster'].count()/final_df[(final_df['Cluster']=='Adventurous')]['Cluster'].count()).round(2))\n",
    "\n",
    "# # finding how much percentage of a cluster owns a windows\n",
    "\n",
    "# print(\"Cluster 3:\")\n",
    "# print((final_df[(final_df['Cluster']=='Conservatives')&(final_df['What laptop would you buy in next assuming if all laptops cost the same?'] == 'Windows laptop')]['Cluster'].count()/final_df[(final_df['Cluster']=='Conservatives')]['Cluster'].count()).round(2))\n",
    "\n",
    "# # finding how much percentage of a cluster owns a windows\n",
    "\n",
    "# print(\"Cluster 4:\")\n",
    "# print((final_df[(final_df['Cluster']=='Team Player')&(final_df['What laptop would you buy in next assuming if all laptops cost the same?'] == 'Windows laptop')]['Cluster'].count()/final_df[(final_df['Cluster']=='Team Player')]['Cluster'].count()).round(2))\n",
    "\n",
    "\n",
    "# # finding how much percentage of a cluster owns a windows\n",
    "\n",
    "# print(\"Cluster 5:\")\n",
    "# print((final_df[(final_df['Cluster']=='Small Community')&(final_df['What laptop do you currently have?'] == 'Windows laptop')]['Cluster'].count()/final_df[(final_df['Cluster']=='Small Community')]['Cluster'].count()).round(2))\n",
    "\n",
    "# # finding how much percentage of a cluster owns a windows\n",
    "\n",
    "# print(\"Cluster 6:\")\n",
    "# print((final_df[(final_df['Cluster']=='Leaders')&(final_df['What laptop would you buy in next assuming if all laptops cost the same?'] == 'Windows laptop')]['Cluster'].count()/final_df[(final_df['Cluster']=='Leaders')]['Cluster'].count()).round(2))\n",
    "\n",
    "\n",
    "\n",
    "# # finding how much percentage of a cluster owns a windows\n",
    "# print(\"Cluster 7:\")\n",
    "# print((final_df[(final_df['Cluster']==\"Self Starter\")&(final_df['What laptop would you buy in next assuming if all laptops cost the same?'] == 'Windows laptop')]['Cluster'].count()/final_df[(final_df['Cluster']==\"Self Starter\")]['Cluster'].count()).round(2))"
   ]
  },
  {
   "cell_type": "markdown",
   "metadata": {},
   "source": [
    "<center>Clusters of CURRENT Laptop Ownership</center>\n",
    "\n",
    "Cluster | Cluster Size | % of Windows | % of Not Windows |\n",
    "----|--------------|--------------|------------|\n",
    "Traditionalists | 68 | 51% |49%|\n",
    "Adventurous | 87  | 44% | 56%\n",
    "Conservatives| 66 | 44% | 56% |\n",
    "Team Player| 46  | 59% | 31% |\n",
    "Small Community| 51  | 52% | 48% |\n",
    "Leaders| 26  | 38% | 62% |\n",
    "Self Starter| 44  | 51% | 49%|\n",
    "\n",
    "Getting a general overview of what percentage of customers own Windows Vs Not Windows (Macbook & Chromebook), we can see that Team Player, Small Community, Self Starters, and Traditionalists, all have slightly more ownership for Windows laptops. The splits are not very large, but it is good to see that Windows laptops majority favored amongst the clusters. Now let's look into NEXT ownership for laptops."
   ]
  },
  {
   "cell_type": "markdown",
   "metadata": {},
   "source": [
    "<center>Clusters of NEXT Laptop Ownership </center>\n",
    "\n",
    "Cluster | Cluster Size | % of Windows | % of Not Windows |\n",
    "----|--------------|--------------|------------|\n",
    "Traditionalists | 68 | 40% |60%|\n",
    "Adventurous | 87  | 45% | 55%\n",
    "Conservatives| 66 | 36% | 64% |\n",
    "Team Player| 46  | 52% | 48% |\n",
    "Small Community| 51  | 52% | 48% |\n",
    "Leaders| 26  | 31% | 69% |\n",
    "Self Starter| 44  | 38% | 62%|\n",
    "\n",
    "Now the results have changed pretty drastically. We see that almost all the clusters that had more Windows users in the previous table have now convert into becoming Non Windows users. This is a significant change, now that Windows has lost market share amongst their customers, they would want to start explore reasons specific to each group as to why this happened.\n",
    "\n",
    "The only positive change in the clustering, was the Adventurous had a growth of 1%, which may be a reason to look into they customers in this bracket. There may be opportunity to study behavior and patterns amongst these demographics. "
   ]
  },
  {
   "cell_type": "code",
   "execution_count": 72,
   "metadata": {
    "code_folding": [
     0
    ]
   },
   "outputs": [],
   "source": [
    "# # Create barplots for each type pca persona\n",
    "# fig, ax = plt.subplots(figsize = (10, 8))\n",
    "# sns.set_palette(sns.color_palette(\"hls\", 8))\n",
    "\n",
    "# plt.subplot(2, 2, 1)\n",
    "# sns.boxplot(x = 'What laptop do you currently have?',\n",
    "#             y = 'Aspiring Professionals',\n",
    "#             hue = 'Cluster',\n",
    "#             data = final_df)\n",
    "\n",
    "# plt.subplot(2, 2, 2)\n",
    "# sns.boxplot(x = 'What laptop do you currently have?',\n",
    "#             y = 'Confident',\n",
    "#             hue = 'Cluster',\n",
    "#             data = final_df)\n",
    "\n",
    "\n",
    "# plt.subplot(2, 2, 3)\n",
    "# sns.boxplot(x = 'What laptop do you currently have?',\n",
    "#             y = 'Introvert',\n",
    "#             hue = 'Cluster',\n",
    "#             data = final_df)\n",
    "\n",
    "\n",
    "# plt.subplot(2, 2, 4)\n",
    "# sns.boxplot(x = 'What laptop do you currently have?',\n",
    "#             y = 'The Risk Averse',\n",
    "#             hue = 'Cluster',\n",
    "#             data = final_df)\n",
    "\n",
    "\n",
    "# plt.tight_layout()\n"
   ]
  },
  {
   "cell_type": "markdown",
   "metadata": {},
   "source": [
    "----------------\n",
    "## Program\n",
    "\n",
    "There are currently 192 windows laptops among 392 participants and if they could switch to a new one, this number would be reduced to 163 meaning a reduction in 15%. This is the detail behind the 15% reduction.\n",
    "   \n",
    "- Only 147 would purchase another windows laptop, meaning that Microsoft would lose 23% of its current customers. Of which 65.3% are male and 34.7% female.\n",
    "- Only 16 users would switch from a MacBook to a windows laptop, meaning an increase in 8% from the base number. Of which 62.5% are male and 37.5% female.\n",
    "\n",
    "Considering the laptop ownership by program and what kind of laptop they would switch to, we know that 49% of the students have a windows laptop into the four different programs. The following table shows the changes in windows laptop ownership if all students would change laptop.\n",
    "- DD in Disruptive innovation would have a windows user among the participant students for the first time.\n",
    "- The percentages shown represent by how much the number of users would drop after considering the users that left windows and the users that would start using it.\n",
    "- MIB_MBAN despite being the program with the most new users (8 students or 10.5% from 76 students initially), it is also the most affected, losing 23 students (30.3% from 76 students initially).\n",
    "\n",
    "Program | Students with Windows Laptop | Remain loyal to Windows | New users | Change in % |\n",
    "-----|-----|----|-----|-----|\n",
    "DD (MIB & Business Analytics) | 76 | 53 | 8 | 19.7% |\n",
    "One year Business Analytics | 61 | 49 | 5 | 11.5% |\n",
    "DD (MBA & Business Analytics) | 55 | 45 | 1 | 16.4% |\n"
   ]
  },
  {
   "cell_type": "code",
   "execution_count": 73,
   "metadata": {
    "code_folding": [
     0
    ]
   },
   "outputs": [],
   "source": [
    "# # Code for program analysis\n",
    "# # Studients carrying over to Windows ot not\n",
    "# w2w_bp  = survey_df['What program are you in?']\\\n",
    "#           [survey_df['What laptop do you currently have?']\\\n",
    "#           == \"Windows laptop\"]\\\n",
    "#           [survey_df['What laptop would you buy in next assuming if all laptops cost the same?']\\\n",
    "#           == 'Windows laptop']\\\n",
    "# .value_counts()\n",
    "# w2nw_bp = survey_df['What program are you in?']\\\n",
    "#           [survey_df['What laptop do you currently have?']\\\n",
    "#           != \"Windows laptop\"]\\\n",
    "#           [survey_df['What laptop would you buy in next assuming if all laptops cost the same?']\\\n",
    "#           == 'Windows laptop']\\\n",
    "# [survey_df['Gender'] == 'Male'].value_counts()\n",
    "# print(f\"\"\"\n",
    "# {w2w_bp}\n",
    "# ---------------------\n",
    "# {w2nw_bp}\n",
    "# \"\"\")\n",
    "# # Student carrying over by gender\n",
    "# w2w_bp_m = survey_df['What program are you in?']\\\n",
    "#           [survey_df['What laptop do you currently have?']\\\n",
    "#           == \"Windows laptop\"]\\\n",
    "#           [survey_df['What laptop would you buy in next assuming if all laptops cost the same?']\\\n",
    "#           == 'Windows laptop']\\\n",
    "#           [survey_df['Gender'] == 'Male'].value_counts()\n",
    "# w2w_bp_f = survey_df['What program are you in?']\\\n",
    "#           [survey_df['What laptop do you currently have?']\\\n",
    "#           == \"Windows laptop\"]\\\n",
    "#           [survey_df['What laptop would you buy in next assuming if all laptops cost the same?']\\\n",
    "#           == 'Windows laptop']\\\n",
    "#           [survey_df['Gender'] == 'Female'].value_counts()\n",
    "# print(f\"\"\"\n",
    "# {w2w_bp_m}\n",
    "# ---------------------\n",
    "# {w2w_bp_f}\n",
    "# \"\"\")\n",
    "# # New students by gender\n",
    "# w2nw_bp_m = survey_df['What program are you in?']\\\n",
    "#           [survey_df['What laptop do you currently have?']\\\n",
    "#           != \"Windows laptop\"]\\\n",
    "#           [survey_df['What laptop would you buy in next assuming if all laptops cost the same?']\\\n",
    "#           == 'Windows laptop']\\\n",
    "#           [survey_df['Gender'] == 'Male'].value_counts()\n",
    "# w2nw_bp_f = survey_df['What program are you in?']\\\n",
    "#           [survey_df['What laptop do you currently have?']\\\n",
    "#           != \"Windows laptop\"]\\\n",
    "#           [survey_df['What laptop would you buy in next assuming if all laptops cost the same?']\\\n",
    "#           == 'Windows laptop']\\\n",
    "#           [survey_df['Gender'] == 'Female'].value_counts()\n",
    "# print(f\"\"\"\n",
    "# {w2nw_bp_m}\n",
    "# ---------------------\n",
    "# {w2nw_bp_f}\n",
    "# \"\"\")"
   ]
  },
  {
   "cell_type": "markdown",
   "metadata": {},
   "source": [
    "-------------------------\n",
    "## Region\n",
    "Next, we can explore the impact on clusters on regions and see what the current and future demand for Windows laptops looks like."
   ]
  },
  {
   "cell_type": "code",
   "execution_count": 74,
   "metadata": {
    "code_folding": [
     0
    ]
   },
   "outputs": [],
   "source": [
    "# # Data frame with selected columns of interest\n",
    "# region_final = final_df.iloc[:,[6,7,8,9,10,11,12]]\n",
    "\n",
    "# #view new dataframe\n",
    "# #print(region_final.head())"
   ]
  },
  {
   "cell_type": "code",
   "execution_count": 75,
   "metadata": {
    "code_folding": [
     0
    ]
   },
   "outputs": [],
   "source": [
    "# # New region dataframe\n",
    "# Africa = region_final[region_final['Regions']=='Africa']\n",
    "# Europe = region_final[region_final['Regions']=='Europe']\n",
    "\n",
    "# # looking at cluster distribution\n",
    "# print(Africa['Cluster'].value_counts())\n",
    "# print(Europe['Cluster'].value_counts())\n",
    "\n",
    "# # count total cluster per gender\n",
    "# print(Africa['Cluster'].count())\n",
    "# print(Europe['Cluster'].count())"
   ]
  },
  {
   "cell_type": "code",
   "execution_count": 76,
   "metadata": {
    "code_folding": [
     0
    ]
   },
   "outputs": [],
   "source": [
    "# # Distribution of Africa\n",
    "# # distribution of window owned for Traditionalists'\n",
    "# print(final_df[(final_df['Regions'] == 'Africa') \n",
    "#          & (final_df['Cluster']=='Traditionalists')]['What laptop do you currently have?'].value_counts())\n",
    "\n",
    "\n",
    "# # narrow down selection for unique customers \n",
    "# print(final_df[(final_df['Regions'] == 'Africa') \n",
    "#          & (final_df['Cluster']=='Traditionalists')\n",
    "#          & (final_df['What laptop do you currently have?']=='Windows laptop')]['What laptop would you buy in next assuming if all laptops cost the same?'].value_counts())\n",
    "\n",
    "\n",
    "# # distribution of window owned for Adventurous\n",
    "# print(final_df[(final_df['Regions'] == 'Africa') \n",
    "#          & (final_df['Cluster']=='Adventurous')]['What laptop do you currently have?'].value_counts())\n",
    "\n",
    "# # narrow down selection for unique customers \n",
    "# print(final_df[(final_df['Regions'] == 'Africa') \n",
    "#          & (final_df['Cluster']=='Adventurous')\n",
    "#          & (final_df['What laptop do you currently have?']=='Windows laptop')]['What laptop would you buy in next assuming if all laptops cost the same?'].value_counts())\n",
    "\n",
    "\n",
    "# # distribution of window owned for Conservatives\n",
    "# print(final_df[(final_df['Regions'] == 'Africa') \n",
    "#          & (final_df['Cluster']=='Conservatives')]['What laptop do you currently have?'].value_counts())\n",
    "\n",
    "\n",
    "# # narrow down selection for unique customers \n",
    "# print(final_df[(final_df['Regions'] == 'Africa') \n",
    "#          & (final_df['Cluster']=='Conservatives')\n",
    "#          & (final_df['What laptop do you currently have?']=='Windows laptop')]['What laptop would you buy in next assuming if all laptops cost the same?'].value_counts())\n",
    "\n",
    "# # distribution of window owned for Team Player\n",
    "# print(final_df[(final_df['Regions'] == 'Africa') \n",
    "#          & (final_df['Cluster']=='Team Player')]['What laptop do you currently have?'].value_counts())\n",
    "\n",
    "\n",
    "# # narrow down selection for unique customers \n",
    "# print(final_df[(final_df['Regions'] == 'Africa') \n",
    "#          & (final_df['Cluster']=='Team Player')\n",
    "#          & (final_df['What laptop do you currently have?']=='Windows laptop')]['What laptop would you buy in next assuming if all laptops cost the same?'].value_counts())\n",
    "\n",
    "\n",
    "# # distribution of window owned for Small Community\n",
    "# print(final_df[(final_df['Regions'] == 'Africa') \n",
    "#          & (final_df['Cluster']=='Small Community')]['What laptop do you currently have?'].value_counts())\n",
    "\n",
    "\n",
    "# # narrow down selection for unique customers \n",
    "# print(final_df[(final_df['Regions'] == 'Africa') \n",
    "#          & (final_df['Cluster']=='Small Community')\n",
    "#          & (final_df['What laptop do you currently have?']=='Windows laptop')]['What laptop would you buy in next assuming if all laptops cost the same?'].value_counts())\n",
    "\n",
    "# # distribution of window owned for Leaders\n",
    "# print(final_df[(final_df['Regions'] == 'Africa') \n",
    "#          & (final_df['Cluster']=='Leaders')]['What laptop do you currently have?'].value_counts())\n",
    "\n",
    "\n",
    "# # narrow down selection for unique customers \n",
    "# print(final_df[(final_df['Regions'] == 'Africa') \n",
    "#          & (final_df['Cluster']=='Leaders')\n",
    "#          & (final_df['What laptop do you currently have?']=='Windows laptop')]['What laptop would you buy in next assuming if all laptops cost the same?'].value_counts())\n",
    "\n",
    "\n",
    "# # distribution of window owned for Self Starter\n",
    "# print(final_df[(final_df['Regions'] == 'Africa') \n",
    "#          & (final_df['Cluster']=='Self Starter')]['What laptop do you currently have?'].value_counts())\n",
    "\n",
    "# # narrow down selection for unique customers \n",
    "# print(final_df[(final_df['Regions'] == 'Africa') \n",
    "#          & (final_df['Cluster']=='Self Starter')\n",
    "#          & (final_df['What laptop do you currently have?']=='Windows laptop')]['What laptop would you buy in next assuming if all laptops cost the same?'].value_counts())\n",
    "\n",
    "\n",
    "\n",
    "\n"
   ]
  },
  {
   "cell_type": "code",
   "execution_count": 77,
   "metadata": {
    "code_folding": [
     0
    ]
   },
   "outputs": [],
   "source": [
    "# # Distribution of Europe\n",
    "# # distribution of window owned for Traditionalists'\n",
    "# print(final_df[(final_df['Regions'] == 'Europe') \n",
    "#          & (final_df['Cluster']=='Traditionalists')]['What laptop do you currently have?'].value_counts())\n",
    "\n",
    "\n",
    "# # narrow down selection for unique customers \n",
    "# print(final_df[(final_df['Regions'] == 'Europe') \n",
    "#          & (final_df['Cluster']=='Traditionalists')\n",
    "#          & (final_df['What laptop do you currently have?']=='Windows laptop')]['What laptop would you buy in next assuming if all laptops cost the same?'].value_counts())\n",
    "\n",
    "\n",
    "\n",
    "\n",
    "# # distribution of window owned for Adventurous\n",
    "# print(final_df[(final_df['Regions'] == 'Europe') \n",
    "#          & (final_df['Cluster']=='Adventurous')]['What laptop do you currently have?'].value_counts())\n",
    "\n",
    "\n",
    "\n",
    "# # narrow down selection for unique customers \n",
    "# print(final_df[(final_df['Regions'] == 'Europe') \n",
    "#          & (final_df['Cluster']=='Adventurous')\n",
    "#          & (final_df['What laptop do you currently have?']=='Windows laptop')]['What laptop would you buy in next assuming if all laptops cost the same?'].value_counts())\n",
    "\n",
    "\n",
    "\n",
    "# # distribution of window owned for Conservatives\n",
    "# print(final_df[(final_df['Regions'] == 'Europe') \n",
    "#          & (final_df['Cluster']=='Conservatives')]['What laptop do you currently have?'].value_counts())\n",
    "\n",
    "\n",
    "# # narrow down selection for unique customers \n",
    "# print(final_df[(final_df['Regions'] == 'Europe') \n",
    "#          & (final_df['Cluster']=='Conservatives')\n",
    "#          & (final_df['What laptop do you currently have?']=='Windows laptop')]['What laptop would you buy in next assuming if all laptops cost the same?'].value_counts())\n",
    "\n",
    "\n",
    "\n",
    "# # distribution of window owned for Team Player\n",
    "# print(final_df[(final_df['Regions'] == 'Europe') \n",
    "#          & (final_df['Cluster']=='Team Player')]['What laptop do you currently have?'].value_counts())\n",
    "\n",
    "\n",
    "# # narrow down selection for unique customers \n",
    "# print(final_df[(final_df['Regions'] == 'Europe') \n",
    "#          & (final_df['Cluster']=='Team Player')\n",
    "#          & (final_df['What laptop do you currently have?']=='Windows laptop')]['What laptop would you buy in next assuming if all laptops cost the same?'].value_counts())\n",
    "\n",
    "\n",
    "\n",
    "\n",
    "# # distribution of window owned for Small Community\n",
    "# print(final_df[(final_df['Regions'] == 'Europe') \n",
    "#          & (final_df['Cluster']=='Small Community')]['What laptop do you currently have?'].value_counts())\n",
    "\n",
    "\n",
    "\n",
    "# # narrow down selection for unique customers \n",
    "# print(final_df[(final_df['Regions'] == 'Europe') \n",
    "#          & (final_df['Cluster']=='Small Community')\n",
    "#          & (final_df['What laptop do you currently have?']=='Windows laptop')]['What laptop would you buy in next assuming if all laptops cost the same?'].value_counts())\n",
    "\n",
    "\n",
    "\n",
    "# # distribution of window owned for Leaders\n",
    "# print(final_df[(final_df['Regions'] == 'Europe') \n",
    "#          & (final_df['Cluster']=='Leaders')]['What laptop do you currently have?'].value_counts())\n",
    "\n",
    "\n",
    "\n",
    "# # narrow down selection for unique customers \n",
    "# print(final_df[(final_df['Regions'] == 'Europe') \n",
    "#          & (final_df['Cluster']=='Leaders')\n",
    "#          & (final_df['What laptop do you currently have?']=='Windows laptop')]['What laptop would you buy in next assuming if all laptops cost the same?'].value_counts())\n",
    "\n",
    "\n",
    "\n",
    "\n",
    "# # distribution of window owned for Self Starter\n",
    "# print(final_df[(final_df['Regions'] == 'Europe') \n",
    "#          & (final_df['Cluster']=='Self Starter')]['What laptop do you currently have?'].value_counts())\n",
    "\n",
    "# # narrow down selection for unique customers \n",
    "# print(final_df[(final_df['Regions'] == 'Europe') \n",
    "#          & (final_df['Cluster']=='Self Starter')\n",
    "#          & (final_df['What laptop do you currently have?']=='Windows laptop')]['What laptop would you buy in next assuming if all laptops cost the same?'].value_counts())\n",
    "\n",
    "\n",
    "\n"
   ]
  },
  {
   "cell_type": "markdown",
   "metadata": {},
   "source": [
    "Exploring the distribution of clusters within Europe and Africa provided further insights:\n",
    "\n",
    "Region Type | Size | Traditionalists | Adventurous | Conservatives | Team Player | Small Community | Leaders |Self Starter\n",
    "----|--------------|--------------|------------|--------------|------------|--------------|------------|--------------|\n",
    "Europe | 62 | 14.5% | 21%| 21% | 11.3% | 8.1%| 14.5% | 9.7% |\n",
    "Africa | 28  | 17.9% | 25% | 17.9% | 7.1% | 10.7%| 7.1% | 14.3% |\n",
    "\n",
    "\n",
    "\n",
    "- For all the clusters in Europe, all responders who earlier owned a Windows laptop (39%) choose to stick to with Windows laptop as their next choice as well. \n",
    "\n",
    "\n",
    "- For Conservatives, Team Player, Small Community and Leaders in Africa, the responders stuck to their choice of Windows laptop that they currently own. "
   ]
  },
  {
   "cell_type": "markdown",
   "metadata": {},
   "source": [
    "-------------------\n",
    "## Age\n",
    "\n",
    "Exploring the distribution of clusters within the specific age sets of Gen Z and Gen Y provided further insights:\n",
    "\n",
    "Gen Type | Size | Adventurous | Team Player | Conservatives | Self Starter | Traditionalists | Leaders |Small Community\n",
    "----|--------------|--------------|------------|--------------|------------|--------------|------------|--------------|\n",
    "Gen Z | 59 | 15.2% | 15.2%| 15.2% | 15.2% | 15.2%| 7% | 17% |\n",
    "Gen Y | 331  | 9% | 13% | 15% | 20% | 17%| 14% | 12% |\n",
    "\n",
    "\n",
    "\n",
    "- The highest cluster in Gen Y of about 20% is the self starter cluster, which is characterized by them relying on others and bringing high confidence to the team they are working with even though they are moderately high in introvertism. This group had 62% of their responders not wanting a windows as their next laptop and as such do not confirm the earlier hypotheses of Macbook users scoring high on extraversion. \n",
    "\n",
    "\n",
    "- The second highest cluster in Gen Y of about 17% is the traditionalists cluster. This group is low in confidence and high in introvertism, resulting in a high level of self reliance. Traditionally, they are tackling problems on their own but barely taking risks, as they are relatively high in risk aversion. This group had 40% of their responders wanting a Windows laptop next. This partially confirms the hypotheses of Windows users scoring low in thinking by avoiding challenging situations that working in teams bring about.  \n",
    "\n"
   ]
  },
  {
   "cell_type": "markdown",
   "metadata": {},
   "source": [
    "-----------------\n",
    "## Gender\n",
    "Now we can explore how the clusters impact gender roles amongst our survey responders."
   ]
  },
  {
   "cell_type": "code",
   "execution_count": 78,
   "metadata": {
    "code_folding": [
     0
    ]
   },
   "outputs": [],
   "source": [
    "# # Data frame with selected columns of interest\n",
    "# gender_final = final_df.iloc[:,[4,7,8,9,10,11,12]]\n",
    "\n",
    "# #view new dataframe\n",
    "# print(gender_final.head())\n",
    "\n",
    "# # new gender dataframe\n",
    "# male = gender_final[gender_final['Gender']=='Male']\n",
    "# female = gender_final[gender_final['Gender']!='Male']\n",
    "\n",
    "# # looking at cluster distribution\n",
    "# print(male['Cluster'].value_counts())\n",
    "# print(female['Cluster'].value_counts())\n",
    "# print(male['Cluster'].count())\n",
    "# print(female['Cluster'].count())\n",
    "\n",
    "# # distribution of window owned for Adventurous\n",
    "# final_df[(final_df['Gender'] == 'Male') \n",
    "#         & (final_df['Cluster']=='Adventurous')]['What laptop do you currently have?'].value_counts()\n",
    "\n",
    "# # narrow down selection for unique customers \n",
    "# final_df[(final_df['Gender'] == 'Male') \n",
    "#          & (final_df['Cluster']=='Adventurous')\n",
    "#          & (final_df['What laptop do you currently have?']=='Windows laptop')]['What laptop would you buy in next assuming if all laptops cost the same?'].value_counts()"
   ]
  },
  {
   "cell_type": "markdown",
   "metadata": {},
   "source": [
    "\n",
    "\n",
    "Clusters        | Male (% of Population) | Female (% of Population) |\n",
    "----------------------|---------|--------|\n",
    "Adventurous            |57 (25%) |30 (18%)|\n",
    "Traditionalists           |38 (17%) |30 (18%)|\n",
    "Conservatives         |38 (17%) |28 (17%)|\n",
    "Small Community       |26 (12%) |26 (16%)|\n",
    "Team Player          |26 (12%) |20 (12%)|\n",
    "Self Starter       |25 (11%) |20 (12%)|\n",
    "Leaders               |14 (6%)  |12  (7%)|\n",
    "TOTAL GENDER          | 224      | 166 |\n",
    "\n",
    "Looking at the distribution of male and female survey responders based on the cluster allocation, we see that there is a relatively similar proportion of clients in both genders. The one exception is male population have a higher presence in the Adventurous cluster. We remember in our clustering analysis Adventurous had the most consistent change in Windows users. It was the only cluster with a growth in future users. We can explore this further by isolating males in the Adventurous and observe what laptops they use.\n",
    "\n",
    "Male - Adventurous\n",
    "\n",
    "    Macbook           29\n",
    "    Windows laptop    28\n",
    "\n",
    "We see a even split of ownership so we can't derive too much insight on this. We can however, study the patterns, and behaviours of the Male - Adventurous - Window users and see what laptop they would buy next. From the 28 Windows owned males we see the below.\n",
    "\n",
    "    Windows laptop    26\n",
    "    Macbook            2\n",
    "    \n",
    "These are positive results. It looks like only 2 users would be switching out of a Windows to a Macbook. Now we have a unique demographic of high valued users. 26 total males, that can be targeted for insight development and opportunity analysis. 26 users equal to 6% of our responders, which may seem small, but these users are the most active and loyal based on clustering and demographics. We would to ensure we have marketing strategies that would attract them to be used for future campaigns."
   ]
  },
  {
   "cell_type": "markdown",
   "metadata": {},
   "source": [
    "--------------------\n",
    "# 8. OVERVIEW\n",
    "\n",
    "Finally, after exploring demographic trends within our responders, and learning more about laptop preference we can see how the effects of Big Five personality traits and Hult DNA groupings define preference. Exploring the results of our PCAs and Cluster analysis provide insights into unique customer segments, and showcases the impact of Windows demand over time and characteristics.\n",
    "\n",
    "## Main Insights\n",
    "\n",
    "### Insight 1\n",
    "There was an even split for both Macbook and Windows laptops; 51% of audience size for Macbook and 49% for Windows. However, there was a 7% drop; 4.9% to Macbook and the rest to Chromebook, in future laptop ownerships for Windows. In grouping the age for further analysis, Gen Z preferred purchasing a Macbook (75%: 45 users). The Windows proportion for Gen Y, declined by 9% from 53%, totaling 30 users, which is a significant drop in interest from their older customers. This indicates an overall loss in market share for Windows if laptops are the same price.\n",
    "\n",
    "### Insight 2\n",
    "Focusing on South America, there is a clear distinction in their laptop ownership. Looking at Windows laptop preference, for South America, 69% (35 users) favor a Windows laptop. Macbook prices in South America are some of the highest rates in comparison to other countries, which could be a big reason Windows computers are preferred (Nottrodt, 2020). However, despite the apparent higher prices in South America, when asked what would be their ideal next laptop, there is a decline in Windows users, falling from 69% to 52%, totaling 8 users. \n",
    "\n",
    "### Insight 3\n",
    "Comparing the regions, we analyzed vs. the top 5 nationalities surveyed, we found:\n",
    " - All regions except Europe lose interest in Windows by an average 11%.\n",
    " - We observed Chinese, German and American students increase interest by an average of 13%.\n",
    " \n",
    "Considering these factors, there is an opportunity to explore more and find final conclusions for marketing opportunities:\n",
    " - This could mean that highly educated people, in the countries mentioned above, see benefits in using Windows.\n",
    " - International students could be an interesting market for Microsoft to target.\n",
    " - Young professionals may see an added value to buying Windows early on their careers.\n",
    "\n",
    "------------------------\n",
    "\n",
    "## Additional Insights\n",
    "\n",
    "### Insight 4\n",
    "Focusing on genders currently, 55% (125 users) of males own a Windows, compared to 41% of females. However, looking at how males respond to their next laptop preference, males ownership of Windows laptops drop by 8% (31 users), Macbook increases by 5% (20 users), and some switch their preference to Chromebooks (12 users). There is an evident decline in male's Windows laptop preference. In comparison, females' preference Macbooks stays consistent, seeing growth in current ownership to future ownership from 59% (97 users) to 63% (104 users).\n",
    "\n",
    "### Insight 5\n",
    "Although the users from the African region only accounted for 7% (28 users) of the dataset, they had large changes in laptop preference. Current ownership for Windows laptops with African users is 43%, but when asked what they preferred for their next laptop, the proportion dropped by 15%. The total percentage of Windows laptop ownership for users from the African region dropped to 29%. We can stipulate that consumers are more interested in Macbooks if given a choice for their next laptop.\n",
    "\n",
    "---------------------------\n",
    "\n",
    "## Recommendation\n",
    "\n",
    "As demand for Windows laptops generally seems to decrease for US students, the demand for some of the international students is still increasing. Additionally, the number of international students in the US was at an all-time high in 2019 ([IIE](https://www.iie.org/Why-IIE/Announcements/2019/11/Number-of-International-Students-in-the-United-States-Hits-All-Time-High)) making it a huge potential market for Windows. Especially students from China coming to the US are growing at a strong rate creating a potential market of almost 370,000 students.\n",
    "\n",
    "Based on these facts, it is recommended to target a specific marketing campaign towards this group of students. As Microsoft is already offering a discount for international students ([EduRef](https://www.eduref.net/discount-laptops-college-students/)), we recommend broadening that campaign to collaborate with international schools offering them the opportunity to get their PCs. This could be targeted towards locking students in the long-term by making them familiar with the handling and processes within their suite. It is also recommended to broaden this campaign to include the suite for free on those discounted devices. Like that, students will be familiar with the software and might start paying for it even after their student life as part of a regular subscription, yielding return and maintaining market share for Microsoft in the long run. \n"
   ]
  },
  {
   "cell_type": "markdown",
   "metadata": {},
   "source": [
    "-----------------\n",
    "\n",
    "# 9. SOURCES"
   ]
  },
  {
   "cell_type": "markdown",
   "metadata": {},
   "source": [
    "1.\tBresman, H., & Rao, V. D. (2017, August 25). A Survey of 19 Countries Shows How Generations X, Y, and Z Are - and Aren't - Different. Retrieved from https://hbr.org/2017/08/a-survey-of-19-countries-shows-how-generations-x-y-and-z-are-and-arent-different\n",
    "2.\tEriksson, L. (n.d.). What is principal component analysis (PCA) and how it is used? Retrieved from https://blog.umetrics.com/what-is-principal-component-analysis-pca-and-how-it-is-used\n",
    "3.\tFactor Analysis. (n.d.). Retrieved from https://www.statisticssolutions.com/factor-analysis-sem-factor-analysis/\n",
    "4.\tFactor Loadings. (n.d.). Retrieved from https://methods.sagepub.com/reference/encyc-of-research-design/n149.xml\n",
    "5.\tJaadi, Z. (2019, September 4). A Step by Step Explanation of Principal Component Analysis. Retrieved from https://builtin.com/data-science/step-step-explanation-principal-component-analysis\n",
    "6.\tMac vs PC People: Personality Traits & Aesthetic/Media Choices. (2009, November 24). Retrieved from https://kellynford.com/2009/11/24/mac-vs-pc-people-personality-traits-aestheticmedia-choices/\n",
    "7.\tMaklin, C. (2019, July 21). Hierarchical Agglomerative Clustering Algorithm Example In Python. Retrieved from https://towardsdatascience.com/machine-learning-algorithms-part-12-hierarchical-agglomerative-clustering-example-in-python-1e18e0075019\n",
    "8.\tNeuroticism. (2020, March 9). Retrieved from https://en.wikipedia.org/wiki/Neuroticism\n",
    "9.\tNgo, L. (2018, December 5). How to read PCA biplots and scree plots. Retrieved from https://blog.bioturing.com/2018/06/18/how-to-read-pca-biplots-and-scree-plots/\n",
    "10.\tsklearn.cluster.KMeans¶. (n.d.). Retrieved from https://scikit-learn.org/stable/modules/generated/sklearn.cluster.KMeans.html\n",
    "11.\tThe Big Five Personality Test. (n.d.). Retrieved from https://openpsychometrics.org/printable/big-five-personality-test.pdf\n",
    "12.\tWhat is Extraversion? - Learn All About the Big Five Personality Traits. (n.d.). Retrieved from https://www.123test.com/personality-extraversion/\n",
    "13. Nordatt (2020), Cheapest Places World Buy Apple Devices. Retrieved from https://toomanyadapters.com/cheapest-places-world-buy-apple-devices/\n",
    "14. About the AuthorJordan NottrodtJordan works remotely, Author, A. the, remotely, J. N. J. works, Nottrodt, J., & remotely, J. works. (2020, February 21). The Cheapest Places in the World to Buy Apple Devices. Retrieved March 24, 2020, from https://toomanyadapters.com/cheapest-places-world-buy-apple-devices/\n",
    "15. Number of International Students in the United States Hits All-Time High. (n.d.). Retrieved March 25, 2020, from https://www.iie.org/Why-IIE/Announcements/2019/11/Number-of-International-Students-in-the-United-States-Hits-All-Time-High\n",
    "16. Duffin, E. (2019, November 19). International students in the U.S., by country of origin 2018/19. Retrieved March 25, 2020, from https://www.statista.com/statistics/233880/international-students-in-the-us-by-country-of-origin/\n",
    "17. *, N. (n.d.). List of Manufacturers Offering Student Laptop Discounts. Retrieved March 25, 2020, from https://www.eduref.net/discount-laptops-college-students/\n",
    "18. Education Store: Student Discounts & Deals - Microsoft Store. (n.d.). Retrieved March 25, 2020, from https://www.microsoft.com/en-us/store/b/education\n",
    "19. Hanson, M. (2019, May 24). 71% of students would prefer a Mac to a PC – if they could afford one. Retrieved March 25, 2020, from https://www.techradar.com/news/71-of-students-would-prefer-a-mac-to-a-pc-if-they-could-afford-one"
   ]
  }
 ],
 "metadata": {
  "kernelspec": {
   "display_name": "Python 3",
   "language": "python",
   "name": "python3"
  },
  "language_info": {
   "codemirror_mode": {
    "name": "ipython",
    "version": 3
   },
   "file_extension": ".py",
   "mimetype": "text/x-python",
   "name": "python",
   "nbconvert_exporter": "python",
   "pygments_lexer": "ipython3",
   "version": "3.7.6"
  },
  "toc": {
   "base_numbering": 1,
   "nav_menu": {},
   "number_sections": false,
   "sideBar": true,
   "skip_h1_title": false,
   "title_cell": "Table of Contents",
   "title_sidebar": "Contents",
   "toc_cell": false,
   "toc_position": {},
   "toc_section_display": true,
   "toc_window_display": false
  },
  "varInspector": {
   "cols": {
    "lenName": 16,
    "lenType": 16,
    "lenVar": 40
   },
   "kernels_config": {
    "python": {
     "delete_cmd_postfix": "",
     "delete_cmd_prefix": "del ",
     "library": "var_list.py",
     "varRefreshCmd": "print(var_dic_list())"
    },
    "r": {
     "delete_cmd_postfix": ") ",
     "delete_cmd_prefix": "rm(",
     "library": "var_list.r",
     "varRefreshCmd": "cat(var_dic_list()) "
    }
   },
   "oldHeight": 500.44422199999997,
   "position": {
    "height": "40px",
    "left": "1313.67px",
    "right": "20px",
    "top": "141px",
    "width": "350px"
   },
   "types_to_exclude": [
    "module",
    "function",
    "builtin_function_or_method",
    "instance",
    "_Feature"
   ],
   "varInspector_section_display": "none",
   "window_display": false
  }
 },
 "nbformat": 4,
 "nbformat_minor": 2
}
